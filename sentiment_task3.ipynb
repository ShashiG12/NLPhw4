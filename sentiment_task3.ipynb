{
 "cells": [
  {
   "cell_type": "markdown",
   "metadata": {},
   "source": [
    "Homework 4: Sentiment Analysis - Task 3\n",
    "----"
   ]
  },
  {
   "cell_type": "markdown",
   "metadata": {},
   "source": [
    "Names & Sections\n",
    "----\n",
    "Names: Shashidhar Gollamudi - 6120\n",
    "       Sunny Huang - 4120\n"
   ]
  },
  {
   "cell_type": "markdown",
   "metadata": {},
   "source": [
    "Task 3: Train a Logistic Regression Model (20 points)\n",
    "----\n",
    "\n",
    "Using `sklearn`'s implementation of `LogisticRegression`, conduct a similar analysis on the performance of a Logistic Regression classifier on the provided data set.\n",
    "\n",
    "Using the `time` module, you'll compare and contrast how long it takes your home-grown BoW vectorizing function vs. `sklearn`'s `CountVectorizer`.\n"
   ]
  },
  {
   "cell_type": "code",
   "execution_count": 2,
   "metadata": {},
   "outputs": [
    {
     "name": "stderr",
     "output_type": "stream",
     "text": [
      "[nltk_data] Downloading package punkt to\n",
      "[nltk_data]     /Users/sunnyh2024/nltk_data...\n",
      "[nltk_data]   Package punkt is already up-to-date!\n"
     ]
    }
   ],
   "source": [
    "from sklearn.linear_model import LogisticRegression\n",
    "# https://scikit-learn.org/stable/modules/generated/sklearn.feature_extraction.text.CountVectorizer.html\n",
    "from sklearn.feature_extraction.text import CountVectorizer\n",
    "from nltk import accuracy, precision, f_measure, recall\n",
    "\n",
    "from collections import Counter\n",
    "import time\n",
    "import sentiment_utils as sutils"
   ]
  },
  {
   "cell_type": "code",
   "execution_count": 3,
   "metadata": {},
   "outputs": [],
   "source": [
    "# define constants for the files we are using\n",
    "TRAIN_FILE = \"movie_reviews_train.txt\"\n",
    "DEV_FILE = \"movie_reviews_dev.txt\"\n",
    "\n",
    "# load in your data and make sure you understand the format\n",
    "# Do not print out too much so as to impede readability of your notebook\n",
    "train_tups = sutils.generate_tuples_from_file(TRAIN_FILE)\n",
    "dev_tups = sutils.generate_tuples_from_file(DEV_FILE)\n",
    "\n",
    "x_train, y_train = train_tups\n",
    "x_dev, y_dev = dev_tups\n",
    "\n",
    "# some variables you may want to use\n",
    "BINARIZED = True\n",
    "USE_COUNT_VECTORIZER = False"
   ]
  },
  {
   "cell_type": "code",
   "execution_count": 4,
   "metadata": {},
   "outputs": [],
   "source": [
    "# Write the functions needed (here or in sentiment_utils.py) to create vectorized BoW representations\n",
    "# of your data. We recommend starting with a multinomial BoW representation.\n",
    "# Each training example should be represented as a sparse vector.\n",
    "def get_sparse_vector(train_data, binary=False):\n",
    "    vocab = sutils.create_index(train_data)\n",
    "    sparse_vector = sutils.featurize(vocab, x_train, binary)\n",
    "    return vocab, sparse_vector"
   ]
  },
  {
   "cell_type": "code",
   "execution_count": 5,
   "metadata": {},
   "outputs": [
    {
     "name": "stdout",
     "output_type": "stream",
     "text": [
      "Vocab size: 30705\n",
      "That took: 6.560585021972656 seconds\n"
     ]
    }
   ],
   "source": [
    "# how much time does it take to featurize the all data with your implementation?\n",
    "\n",
    "start = time.time()\n",
    "\n",
    "my_vocab, my_x_train = get_sparse_vector(x_train)\n",
    "my_x_dev = sutils.featurize(my_vocab, x_dev)\n",
    "\n",
    "_, my_x_train_binary = get_sparse_vector(x_train, binary=True)\n",
    "my_x_dev_binary = sutils.featurize(my_vocab, x_dev, binary=True)\n",
    "\n",
    "print(f'Vocab size: {len(my_vocab)}')\n",
    "\n",
    "end = time.time()\n",
    "print(\"That took:\", end - start, \"seconds\")\n",
    "\n"
   ]
  },
  {
   "cell_type": "code",
   "execution_count": 6,
   "metadata": {},
   "outputs": [
    {
     "name": "stdout",
     "output_type": "stream",
     "text": [
      "Vocab size: 22596\n",
      "That took: 0.4439809322357178 seconds\n"
     ]
    }
   ],
   "source": [
    "# how much time does it take to featurize the all data with sklearn's CountVectorizer?\n",
    "start = time.time()\n",
    "\n",
    "x_train_sents = [' '.join(review) for review in x_train]\n",
    "x_dev_sents = [' '.join(review) for review in x_dev]\n",
    "\n",
    "count_vectorizer = CountVectorizer(binary=False)\n",
    "count_vectorizer.fit(x_train_sents)\n",
    "cv_x_train = count_vectorizer.transform(x_train_sents)\n",
    "cv_x_dev = count_vectorizer.transform(x_dev_sents)\n",
    "cv_vocab = count_vectorizer.get_feature_names_out()\n",
    "\n",
    "count_vectorizer_binary = CountVectorizer(binary=True)\n",
    "count_vectorizer_binary.fit(x_train_sents)\n",
    "cv_x_train_binary = count_vectorizer_binary.transform(x_train_sents)\n",
    "cv_x_dev_binary = count_vectorizer_binary.transform(x_dev_sents)\n",
    "\n",
    "print(f'Vocab size: {len(cv_vocab)}')\n",
    "\n",
    "end = time.time()\n",
    "print(\"That took:\", end - start, \"seconds\")"
   ]
  },
  {
   "cell_type": "markdown",
   "metadata": {},
   "source": [
    "1. How big is your vocabulary using your vectorization function(s)? __30705__\n",
    "2. How big is your vocabulary using the `CountVectorizer`? __22596__"
   ]
  },
  {
   "cell_type": "code",
   "execution_count": 7,
   "metadata": {},
   "outputs": [
    {
     "name": "stdout",
     "output_type": "stream",
     "text": [
      "Percentage of 0s: 99.5092452369321\n"
     ]
    }
   ],
   "source": [
    "#  write any code you need analyze the relative sparsity of your vectorized representations of the data\n",
    "\n",
    "zeros = 0\n",
    "total = 0\n",
    "\n",
    "for vector in my_x_train_binary:\n",
    "    total += len(vector)\n",
    "    zeros += vector.count(0)\n",
    "\n",
    "# Print out the average % of entries that are zeros in each vector in the vectorized training data\n",
    "print(f'Percentage of 0s: {zeros / total * 100}')"
   ]
  },
  {
   "cell_type": "code",
   "execution_count": 9,
   "metadata": {},
   "outputs": [
    {
     "name": "stderr",
     "output_type": "stream",
     "text": [
      "/Users/sunnyh2024/anaconda3/lib/python3.11/site-packages/sklearn/linear_model/_logistic.py:460: ConvergenceWarning: lbfgs failed to converge (status=1):\n",
      "STOP: TOTAL NO. of ITERATIONS REACHED LIMIT.\n",
      "\n",
      "Increase the number of iterations (max_iter) or scale the data as shown in:\n",
      "    https://scikit-learn.org/stable/modules/preprocessing.html\n",
      "Please also refer to the documentation for alternative solver options:\n",
      "    https://scikit-learn.org/stable/modules/linear_model.html#logistic-regression\n",
      "  n_iter_i = _check_optimize_result(\n"
     ]
    },
    {
     "name": "stdout",
     "output_type": "stream",
     "text": [
      "Accuracy with CountVectorizer vectors: 1.0\n",
      "Precision with CountVectorizer vectors: 1.0\n",
      "Recall with CountVectorizer vectors: 1.0\n",
      "F1 Score with CountVectorizer vectors: 1.0\n",
      "Metrics when trained on 10% of data\n",
      "Precision: 0.7156862745098039\n",
      "Recall: 0.6952380952380952\n",
      "F1 score: 0.7053140096618358\n",
      "Accuracy: 0.695\n",
      "Metrics when trained on 20% of data\n",
      "Precision: 0.7830188679245284\n",
      "Recall: 0.7904761904761904\n",
      "F1 score: 0.7867298578199052\n",
      "Accuracy: 0.775\n"
     ]
    },
    {
     "name": "stderr",
     "output_type": "stream",
     "text": [
      "/Users/sunnyh2024/anaconda3/lib/python3.11/site-packages/sklearn/linear_model/_logistic.py:460: ConvergenceWarning: lbfgs failed to converge (status=1):\n",
      "STOP: TOTAL NO. of ITERATIONS REACHED LIMIT.\n",
      "\n",
      "Increase the number of iterations (max_iter) or scale the data as shown in:\n",
      "    https://scikit-learn.org/stable/modules/preprocessing.html\n",
      "Please also refer to the documentation for alternative solver options:\n",
      "    https://scikit-learn.org/stable/modules/linear_model.html#logistic-regression\n",
      "  n_iter_i = _check_optimize_result(\n",
      "/Users/sunnyh2024/anaconda3/lib/python3.11/site-packages/sklearn/linear_model/_logistic.py:460: ConvergenceWarning: lbfgs failed to converge (status=1):\n",
      "STOP: TOTAL NO. of ITERATIONS REACHED LIMIT.\n",
      "\n",
      "Increase the number of iterations (max_iter) or scale the data as shown in:\n",
      "    https://scikit-learn.org/stable/modules/preprocessing.html\n",
      "Please also refer to the documentation for alternative solver options:\n",
      "    https://scikit-learn.org/stable/modules/linear_model.html#logistic-regression\n",
      "  n_iter_i = _check_optimize_result(\n"
     ]
    },
    {
     "name": "stdout",
     "output_type": "stream",
     "text": [
      "Metrics when trained on 30% of data\n",
      "Precision: 0.7747747747747747\n",
      "Recall: 0.819047619047619\n",
      "F1 score: 0.7962962962962963\n",
      "Accuracy: 0.78\n"
     ]
    },
    {
     "name": "stderr",
     "output_type": "stream",
     "text": [
      "/Users/sunnyh2024/anaconda3/lib/python3.11/site-packages/sklearn/linear_model/_logistic.py:460: ConvergenceWarning: lbfgs failed to converge (status=1):\n",
      "STOP: TOTAL NO. of ITERATIONS REACHED LIMIT.\n",
      "\n",
      "Increase the number of iterations (max_iter) or scale the data as shown in:\n",
      "    https://scikit-learn.org/stable/modules/preprocessing.html\n",
      "Please also refer to the documentation for alternative solver options:\n",
      "    https://scikit-learn.org/stable/modules/linear_model.html#logistic-regression\n",
      "  n_iter_i = _check_optimize_result(\n"
     ]
    },
    {
     "name": "stdout",
     "output_type": "stream",
     "text": [
      "Metrics when trained on 40% of data\n",
      "Precision: 0.794392523364486\n",
      "Recall: 0.8095238095238095\n",
      "F1 score: 0.8018867924528302\n",
      "Accuracy: 0.79\n"
     ]
    },
    {
     "name": "stderr",
     "output_type": "stream",
     "text": [
      "/Users/sunnyh2024/anaconda3/lib/python3.11/site-packages/sklearn/linear_model/_logistic.py:460: ConvergenceWarning: lbfgs failed to converge (status=1):\n",
      "STOP: TOTAL NO. of ITERATIONS REACHED LIMIT.\n",
      "\n",
      "Increase the number of iterations (max_iter) or scale the data as shown in:\n",
      "    https://scikit-learn.org/stable/modules/preprocessing.html\n",
      "Please also refer to the documentation for alternative solver options:\n",
      "    https://scikit-learn.org/stable/modules/linear_model.html#logistic-regression\n",
      "  n_iter_i = _check_optimize_result(\n"
     ]
    },
    {
     "name": "stdout",
     "output_type": "stream",
     "text": [
      "Metrics when trained on 50% of data\n",
      "Precision: 0.8095238095238095\n",
      "Recall: 0.8095238095238095\n",
      "F1 score: 0.8095238095238095\n",
      "Accuracy: 0.8\n"
     ]
    },
    {
     "name": "stderr",
     "output_type": "stream",
     "text": [
      "/Users/sunnyh2024/anaconda3/lib/python3.11/site-packages/sklearn/linear_model/_logistic.py:460: ConvergenceWarning: lbfgs failed to converge (status=1):\n",
      "STOP: TOTAL NO. of ITERATIONS REACHED LIMIT.\n",
      "\n",
      "Increase the number of iterations (max_iter) or scale the data as shown in:\n",
      "    https://scikit-learn.org/stable/modules/preprocessing.html\n",
      "Please also refer to the documentation for alternative solver options:\n",
      "    https://scikit-learn.org/stable/modules/linear_model.html#logistic-regression\n",
      "  n_iter_i = _check_optimize_result(\n"
     ]
    },
    {
     "name": "stdout",
     "output_type": "stream",
     "text": [
      "Metrics when trained on 60% of data\n",
      "Precision: 0.8113207547169812\n",
      "Recall: 0.819047619047619\n",
      "F1 score: 0.8151658767772512\n",
      "Accuracy: 0.805\n"
     ]
    },
    {
     "name": "stderr",
     "output_type": "stream",
     "text": [
      "/Users/sunnyh2024/anaconda3/lib/python3.11/site-packages/sklearn/linear_model/_logistic.py:460: ConvergenceWarning: lbfgs failed to converge (status=1):\n",
      "STOP: TOTAL NO. of ITERATIONS REACHED LIMIT.\n",
      "\n",
      "Increase the number of iterations (max_iter) or scale the data as shown in:\n",
      "    https://scikit-learn.org/stable/modules/preprocessing.html\n",
      "Please also refer to the documentation for alternative solver options:\n",
      "    https://scikit-learn.org/stable/modules/linear_model.html#logistic-regression\n",
      "  n_iter_i = _check_optimize_result(\n"
     ]
    },
    {
     "name": "stdout",
     "output_type": "stream",
     "text": [
      "Metrics when trained on 70% of data\n",
      "Precision: 0.8130841121495327\n",
      "Recall: 0.8285714285714286\n",
      "F1 score: 0.8207547169811321\n",
      "Accuracy: 0.81\n"
     ]
    },
    {
     "name": "stderr",
     "output_type": "stream",
     "text": [
      "/Users/sunnyh2024/anaconda3/lib/python3.11/site-packages/sklearn/linear_model/_logistic.py:460: ConvergenceWarning: lbfgs failed to converge (status=1):\n",
      "STOP: TOTAL NO. of ITERATIONS REACHED LIMIT.\n",
      "\n",
      "Increase the number of iterations (max_iter) or scale the data as shown in:\n",
      "    https://scikit-learn.org/stable/modules/preprocessing.html\n",
      "Please also refer to the documentation for alternative solver options:\n",
      "    https://scikit-learn.org/stable/modules/linear_model.html#logistic-regression\n",
      "  n_iter_i = _check_optimize_result(\n"
     ]
    },
    {
     "name": "stdout",
     "output_type": "stream",
     "text": [
      "Metrics when trained on 80% of data\n",
      "Precision: 0.8095238095238095\n",
      "Recall: 0.8095238095238095\n",
      "F1 score: 0.8095238095238095\n",
      "Accuracy: 0.8\n"
     ]
    },
    {
     "name": "stderr",
     "output_type": "stream",
     "text": [
      "/Users/sunnyh2024/anaconda3/lib/python3.11/site-packages/sklearn/linear_model/_logistic.py:460: ConvergenceWarning: lbfgs failed to converge (status=1):\n",
      "STOP: TOTAL NO. of ITERATIONS REACHED LIMIT.\n",
      "\n",
      "Increase the number of iterations (max_iter) or scale the data as shown in:\n",
      "    https://scikit-learn.org/stable/modules/preprocessing.html\n",
      "Please also refer to the documentation for alternative solver options:\n",
      "    https://scikit-learn.org/stable/modules/linear_model.html#logistic-regression\n",
      "  n_iter_i = _check_optimize_result(\n"
     ]
    },
    {
     "name": "stdout",
     "output_type": "stream",
     "text": [
      "Metrics when trained on 90% of data\n",
      "Precision: 0.7837837837837838\n",
      "Recall: 0.8285714285714286\n",
      "F1 score: 0.8055555555555556\n",
      "Accuracy: 0.79\n",
      "Metrics when trained on 100% of data\n",
      "Precision: 0.7747747747747747\n",
      "Recall: 0.819047619047619\n",
      "F1 score: 0.7962962962962963\n",
      "Accuracy: 0.78\n"
     ]
    },
    {
     "name": "stderr",
     "output_type": "stream",
     "text": [
      "/Users/sunnyh2024/anaconda3/lib/python3.11/site-packages/sklearn/linear_model/_logistic.py:460: ConvergenceWarning: lbfgs failed to converge (status=1):\n",
      "STOP: TOTAL NO. of ITERATIONS REACHED LIMIT.\n",
      "\n",
      "Increase the number of iterations (max_iter) or scale the data as shown in:\n",
      "    https://scikit-learn.org/stable/modules/preprocessing.html\n",
      "Please also refer to the documentation for alternative solver options:\n",
      "    https://scikit-learn.org/stable/modules/linear_model.html#logistic-regression\n",
      "  n_iter_i = _check_optimize_result(\n"
     ]
    },
    {
     "data": {
      "image/png": "[encoded data removed]",
      "text/plain": [
       "<Figure size 640x480 with 1 Axes>"
      ]
     },
     "metadata": {},
     "output_type": "display_data"
    },
    {
     "name": "stdout",
     "output_type": "stream",
     "text": [
      "Metrics when trained on 10% of data\n",
      "Precision: 0.46601941747572817\n",
      "Recall: 0.45714285714285713\n",
      "F1 score: 0.46153846153846156\n",
      "Accuracy: 0.44\n"
     ]
    },
    {
     "ename": "ValueError",
     "evalue": "Found input variables with inconsistent numbers of samples: [200, 320]",
     "output_type": "error",
     "traceback": [
      "\u001b[0;31m---------------------------------------------------------------------------\u001b[0m",
      "\u001b[0;31mValueError\u001b[0m                                Traceback (most recent call last)",
      "\u001b[1;32m/Users/sunnyh2024/Documents/GitHub/NLPhw4/sentiment_task3.ipynb Cell 11\u001b[0m line \u001b[0;36m4\n\u001b[1;32m     <a href='vscode-notebook-cell:/Users/sunnyh2024/Documents/GitHub/NLPhw4/sentiment_task3.ipynb#X13sZmlsZQ%3D%3D?line=34'>35</a>\u001b[0m     \u001b[39mreturn\u001b[39;00m preds, dev_feats[\u001b[39m1\u001b[39m]\n\u001b[1;32m     <a href='vscode-notebook-cell:/Users/sunnyh2024/Documents/GitHub/NLPhw4/sentiment_task3.ipynb#X13sZmlsZQ%3D%3D?line=36'>37</a>\u001b[0m sutils\u001b[39m.\u001b[39mcreate_training_graph(nn_metrics_fun, \n\u001b[1;32m     <a href='vscode-notebook-cell:/Users/sunnyh2024/Documents/GitHub/NLPhw4/sentiment_task3.ipynb#X13sZmlsZQ%3D%3D?line=37'>38</a>\u001b[0m                              (cv_x_train, y_train), \n\u001b[1;32m     <a href='vscode-notebook-cell:/Users/sunnyh2024/Documents/GitHub/NLPhw4/sentiment_task3.ipynb#X13sZmlsZQ%3D%3D?line=38'>39</a>\u001b[0m                              (cv_x_dev, y_dev), \n\u001b[1;32m     <a href='vscode-notebook-cell:/Users/sunnyh2024/Documents/GitHub/NLPhw4/sentiment_task3.ipynb#X13sZmlsZQ%3D%3D?line=39'>40</a>\u001b[0m                              \u001b[39m\"\u001b[39m\u001b[39mLogistic Regression (multinomial sklearn)\u001b[39m\u001b[39m\"\u001b[39m, \n\u001b[1;32m     <a href='vscode-notebook-cell:/Users/sunnyh2024/Documents/GitHub/NLPhw4/sentiment_task3.ipynb#X13sZmlsZQ%3D%3D?line=40'>41</a>\u001b[0m                              verbose\u001b[39m=\u001b[39m\u001b[39m1\u001b[39m)\n\u001b[0;32m---> <a href='vscode-notebook-cell:/Users/sunnyh2024/Documents/GitHub/NLPhw4/sentiment_task3.ipynb#X13sZmlsZQ%3D%3D?line=41'>42</a>\u001b[0m sutils\u001b[39m.\u001b[39mcreate_training_graph(nn_metrics_fun, \n\u001b[1;32m     <a href='vscode-notebook-cell:/Users/sunnyh2024/Documents/GitHub/NLPhw4/sentiment_task3.ipynb#X13sZmlsZQ%3D%3D?line=42'>43</a>\u001b[0m                              (cv_x_dev_binary, y_train), \n\u001b[1;32m     <a href='vscode-notebook-cell:/Users/sunnyh2024/Documents/GitHub/NLPhw4/sentiment_task3.ipynb#X13sZmlsZQ%3D%3D?line=43'>44</a>\u001b[0m                              (cv_x_dev_binary, y_dev), \n\u001b[1;32m     <a href='vscode-notebook-cell:/Users/sunnyh2024/Documents/GitHub/NLPhw4/sentiment_task3.ipynb#X13sZmlsZQ%3D%3D?line=44'>45</a>\u001b[0m                              \u001b[39m\"\u001b[39m\u001b[39mLogistic Regression (binomial sklearn)\u001b[39m\u001b[39m\"\u001b[39m, \n\u001b[1;32m     <a href='vscode-notebook-cell:/Users/sunnyh2024/Documents/GitHub/NLPhw4/sentiment_task3.ipynb#X13sZmlsZQ%3D%3D?line=45'>46</a>\u001b[0m                              verbose\u001b[39m=\u001b[39m\u001b[39m1\u001b[39m)\n\u001b[1;32m     <a href='vscode-notebook-cell:/Users/sunnyh2024/Documents/GitHub/NLPhw4/sentiment_task3.ipynb#X13sZmlsZQ%3D%3D?line=46'>47</a>\u001b[0m sutils\u001b[39m.\u001b[39mcreate_training_graph(nn_metrics_fun, \n\u001b[1;32m     <a href='vscode-notebook-cell:/Users/sunnyh2024/Documents/GitHub/NLPhw4/sentiment_task3.ipynb#X13sZmlsZQ%3D%3D?line=47'>48</a>\u001b[0m                              (my_x_train, y_train), \n\u001b[1;32m     <a href='vscode-notebook-cell:/Users/sunnyh2024/Documents/GitHub/NLPhw4/sentiment_task3.ipynb#X13sZmlsZQ%3D%3D?line=48'>49</a>\u001b[0m                              (my_x_dev, y_dev), \n\u001b[1;32m     <a href='vscode-notebook-cell:/Users/sunnyh2024/Documents/GitHub/NLPhw4/sentiment_task3.ipynb#X13sZmlsZQ%3D%3D?line=49'>50</a>\u001b[0m                              \u001b[39m\"\u001b[39m\u001b[39mLogistic Regression (binomial my vectorizer)\u001b[39m\u001b[39m\"\u001b[39m, \n\u001b[1;32m     <a href='vscode-notebook-cell:/Users/sunnyh2024/Documents/GitHub/NLPhw4/sentiment_task3.ipynb#X13sZmlsZQ%3D%3D?line=50'>51</a>\u001b[0m                              verbose\u001b[39m=\u001b[39m\u001b[39m1\u001b[39m)\n\u001b[1;32m     <a href='vscode-notebook-cell:/Users/sunnyh2024/Documents/GitHub/NLPhw4/sentiment_task3.ipynb#X13sZmlsZQ%3D%3D?line=51'>52</a>\u001b[0m sutils\u001b[39m.\u001b[39mcreate_training_graph(nn_metrics_fun, \n\u001b[1;32m     <a href='vscode-notebook-cell:/Users/sunnyh2024/Documents/GitHub/NLPhw4/sentiment_task3.ipynb#X13sZmlsZQ%3D%3D?line=52'>53</a>\u001b[0m                              (my_x_train_binary, y_train), \n\u001b[1;32m     <a href='vscode-notebook-cell:/Users/sunnyh2024/Documents/GitHub/NLPhw4/sentiment_task3.ipynb#X13sZmlsZQ%3D%3D?line=53'>54</a>\u001b[0m                              (my_x_dev_binary, y_dev), \n\u001b[1;32m     <a href='vscode-notebook-cell:/Users/sunnyh2024/Documents/GitHub/NLPhw4/sentiment_task3.ipynb#X13sZmlsZQ%3D%3D?line=54'>55</a>\u001b[0m                              \u001b[39m\"\u001b[39m\u001b[39mLogistic Regression (binomial my vectorizer)\u001b[39m\u001b[39m\"\u001b[39m, \n\u001b[1;32m     <a href='vscode-notebook-cell:/Users/sunnyh2024/Documents/GitHub/NLPhw4/sentiment_task3.ipynb#X13sZmlsZQ%3D%3D?line=55'>56</a>\u001b[0m                              verbose\u001b[39m=\u001b[39m\u001b[39m1\u001b[39m)\n",
      "File \u001b[0;32m~/Documents/GitHub/NLPhw4/sentiment_utils.py:117\u001b[0m, in \u001b[0;36mcreate_training_graph\u001b[0;34m(metrics_fun, train_feats, dev_feats, kind, savepath, verbose)\u001b[0m\n\u001b[1;32m    114\u001b[0m plot_x\u001b[39m.\u001b[39mappend(i)\n\u001b[1;32m    116\u001b[0m percentage \u001b[39m=\u001b[39m i \u001b[39m/\u001b[39m \u001b[39m100\u001b[39m\n\u001b[0;32m--> 117\u001b[0m preds, y_dev \u001b[39m=\u001b[39m metrics_fun(train_feats, dev_feats, percentage)\n\u001b[1;32m    118\u001b[0m precision, recall, f1, accuracy \u001b[39m=\u001b[39m get_prfa(y_dev, preds)\n\u001b[1;32m    119\u001b[0m \u001b[39mif\u001b[39;00m verbose:\n",
      "\u001b[1;32m/Users/sunnyh2024/Documents/GitHub/NLPhw4/sentiment_task3.ipynb Cell 11\u001b[0m line \u001b[0;36m3\n\u001b[1;32m     <a href='vscode-notebook-cell:/Users/sunnyh2024/Documents/GitHub/NLPhw4/sentiment_task3.ipynb#X13sZmlsZQ%3D%3D?line=28'>29</a>\u001b[0m cutoff \u001b[39m=\u001b[39m \u001b[39mint\u001b[39m(\u001b[39mlen\u001b[39m(train_feats[\u001b[39m1\u001b[39m]) \u001b[39m*\u001b[39m percentage)\n\u001b[1;32m     <a href='vscode-notebook-cell:/Users/sunnyh2024/Documents/GitHub/NLPhw4/sentiment_task3.ipynb#X13sZmlsZQ%3D%3D?line=29'>30</a>\u001b[0m model \u001b[39m=\u001b[39m LogisticRegression()\n\u001b[0;32m---> <a href='vscode-notebook-cell:/Users/sunnyh2024/Documents/GitHub/NLPhw4/sentiment_task3.ipynb#X13sZmlsZQ%3D%3D?line=30'>31</a>\u001b[0m model\u001b[39m.\u001b[39mfit(train_feats[\u001b[39m0\u001b[39m][:cutoff], train_feats[\u001b[39m1\u001b[39m][:cutoff])\n\u001b[1;32m     <a href='vscode-notebook-cell:/Users/sunnyh2024/Documents/GitHub/NLPhw4/sentiment_task3.ipynb#X13sZmlsZQ%3D%3D?line=32'>33</a>\u001b[0m preds \u001b[39m=\u001b[39m model\u001b[39m.\u001b[39mpredict(dev_feats[\u001b[39m0\u001b[39m])\n\u001b[1;32m     <a href='vscode-notebook-cell:/Users/sunnyh2024/Documents/GitHub/NLPhw4/sentiment_task3.ipynb#X13sZmlsZQ%3D%3D?line=34'>35</a>\u001b[0m \u001b[39mreturn\u001b[39;00m preds, dev_feats[\u001b[39m1\u001b[39m]\n",
      "File \u001b[0;32m~/anaconda3/lib/python3.11/site-packages/sklearn/base.py:1151\u001b[0m, in \u001b[0;36m_fit_context.<locals>.decorator.<locals>.wrapper\u001b[0;34m(estimator, *args, **kwargs)\u001b[0m\n\u001b[1;32m   1144\u001b[0m     estimator\u001b[39m.\u001b[39m_validate_params()\n\u001b[1;32m   1146\u001b[0m \u001b[39mwith\u001b[39;00m config_context(\n\u001b[1;32m   1147\u001b[0m     skip_parameter_validation\u001b[39m=\u001b[39m(\n\u001b[1;32m   1148\u001b[0m         prefer_skip_nested_validation \u001b[39mor\u001b[39;00m global_skip_validation\n\u001b[1;32m   1149\u001b[0m     )\n\u001b[1;32m   1150\u001b[0m ):\n\u001b[0;32m-> 1151\u001b[0m     \u001b[39mreturn\u001b[39;00m fit_method(estimator, \u001b[39m*\u001b[39margs, \u001b[39m*\u001b[39m\u001b[39m*\u001b[39mkwargs)\n",
      "File \u001b[0;32m~/anaconda3/lib/python3.11/site-packages/sklearn/linear_model/_logistic.py:1207\u001b[0m, in \u001b[0;36mLogisticRegression.fit\u001b[0;34m(self, X, y, sample_weight)\u001b[0m\n\u001b[1;32m   1204\u001b[0m \u001b[39melse\u001b[39;00m:\n\u001b[1;32m   1205\u001b[0m     _dtype \u001b[39m=\u001b[39m [np\u001b[39m.\u001b[39mfloat64, np\u001b[39m.\u001b[39mfloat32]\n\u001b[0;32m-> 1207\u001b[0m X, y \u001b[39m=\u001b[39m \u001b[39mself\u001b[39m\u001b[39m.\u001b[39m_validate_data(\n\u001b[1;32m   1208\u001b[0m     X,\n\u001b[1;32m   1209\u001b[0m     y,\n\u001b[1;32m   1210\u001b[0m     accept_sparse\u001b[39m=\u001b[39m\u001b[39m\"\u001b[39m\u001b[39mcsr\u001b[39m\u001b[39m\"\u001b[39m,\n\u001b[1;32m   1211\u001b[0m     dtype\u001b[39m=\u001b[39m_dtype,\n\u001b[1;32m   1212\u001b[0m     order\u001b[39m=\u001b[39m\u001b[39m\"\u001b[39m\u001b[39mC\u001b[39m\u001b[39m\"\u001b[39m,\n\u001b[1;32m   1213\u001b[0m     accept_large_sparse\u001b[39m=\u001b[39msolver \u001b[39mnot\u001b[39;00m \u001b[39min\u001b[39;00m [\u001b[39m\"\u001b[39m\u001b[39mliblinear\u001b[39m\u001b[39m\"\u001b[39m, \u001b[39m\"\u001b[39m\u001b[39msag\u001b[39m\u001b[39m\"\u001b[39m, \u001b[39m\"\u001b[39m\u001b[39msaga\u001b[39m\u001b[39m\"\u001b[39m],\n\u001b[1;32m   1214\u001b[0m )\n\u001b[1;32m   1215\u001b[0m check_classification_targets(y)\n\u001b[1;32m   1216\u001b[0m \u001b[39mself\u001b[39m\u001b[39m.\u001b[39mclasses_ \u001b[39m=\u001b[39m np\u001b[39m.\u001b[39munique(y)\n",
      "File \u001b[0;32m~/anaconda3/lib/python3.11/site-packages/sklearn/base.py:621\u001b[0m, in \u001b[0;36mBaseEstimator._validate_data\u001b[0;34m(self, X, y, reset, validate_separately, cast_to_ndarray, **check_params)\u001b[0m\n\u001b[1;32m    619\u001b[0m         y \u001b[39m=\u001b[39m check_array(y, input_name\u001b[39m=\u001b[39m\u001b[39m\"\u001b[39m\u001b[39my\u001b[39m\u001b[39m\"\u001b[39m, \u001b[39m*\u001b[39m\u001b[39m*\u001b[39mcheck_y_params)\n\u001b[1;32m    620\u001b[0m     \u001b[39melse\u001b[39;00m:\n\u001b[0;32m--> 621\u001b[0m         X, y \u001b[39m=\u001b[39m check_X_y(X, y, \u001b[39m*\u001b[39m\u001b[39m*\u001b[39mcheck_params)\n\u001b[1;32m    622\u001b[0m     out \u001b[39m=\u001b[39m X, y\n\u001b[1;32m    624\u001b[0m \u001b[39mif\u001b[39;00m \u001b[39mnot\u001b[39;00m no_val_X \u001b[39mand\u001b[39;00m check_params\u001b[39m.\u001b[39mget(\u001b[39m\"\u001b[39m\u001b[39mensure_2d\u001b[39m\u001b[39m\"\u001b[39m, \u001b[39mTrue\u001b[39;00m):\n",
      "File \u001b[0;32m~/anaconda3/lib/python3.11/site-packages/sklearn/utils/validation.py:1165\u001b[0m, in \u001b[0;36mcheck_X_y\u001b[0;34m(X, y, accept_sparse, accept_large_sparse, dtype, order, copy, force_all_finite, ensure_2d, allow_nd, multi_output, ensure_min_samples, ensure_min_features, y_numeric, estimator)\u001b[0m\n\u001b[1;32m   1147\u001b[0m X \u001b[39m=\u001b[39m check_array(\n\u001b[1;32m   1148\u001b[0m     X,\n\u001b[1;32m   1149\u001b[0m     accept_sparse\u001b[39m=\u001b[39maccept_sparse,\n\u001b[0;32m   (...)\u001b[0m\n\u001b[1;32m   1160\u001b[0m     input_name\u001b[39m=\u001b[39m\u001b[39m\"\u001b[39m\u001b[39mX\u001b[39m\u001b[39m\"\u001b[39m,\n\u001b[1;32m   1161\u001b[0m )\n\u001b[1;32m   1163\u001b[0m y \u001b[39m=\u001b[39m _check_y(y, multi_output\u001b[39m=\u001b[39mmulti_output, y_numeric\u001b[39m=\u001b[39my_numeric, estimator\u001b[39m=\u001b[39mestimator)\n\u001b[0;32m-> 1165\u001b[0m check_consistent_length(X, y)\n\u001b[1;32m   1167\u001b[0m \u001b[39mreturn\u001b[39;00m X, y\n",
      "File \u001b[0;32m~/anaconda3/lib/python3.11/site-packages/sklearn/utils/validation.py:409\u001b[0m, in \u001b[0;36mcheck_consistent_length\u001b[0;34m(*arrays)\u001b[0m\n\u001b[1;32m    407\u001b[0m uniques \u001b[39m=\u001b[39m np\u001b[39m.\u001b[39munique(lengths)\n\u001b[1;32m    408\u001b[0m \u001b[39mif\u001b[39;00m \u001b[39mlen\u001b[39m(uniques) \u001b[39m>\u001b[39m \u001b[39m1\u001b[39m:\n\u001b[0;32m--> 409\u001b[0m     \u001b[39mraise\u001b[39;00m \u001b[39mValueError\u001b[39;00m(\n\u001b[1;32m    410\u001b[0m         \u001b[39m\"\u001b[39m\u001b[39mFound input variables with inconsistent numbers of samples: \u001b[39m\u001b[39m%r\u001b[39;00m\u001b[39m\"\u001b[39m\n\u001b[1;32m    411\u001b[0m         \u001b[39m%\u001b[39m [\u001b[39mint\u001b[39m(l) \u001b[39mfor\u001b[39;00m l \u001b[39min\u001b[39;00m lengths]\n\u001b[1;32m    412\u001b[0m     )\n",
      "\u001b[0;31mValueError\u001b[0m: Found input variables with inconsistent numbers of samples: [200, 320]"
     ]
    }
   ],
   "source": [
    "# Using the provided dev set, evaluate your model with precision, recall, and f1 score as well as accuracy\n",
    "# You may use nltk's implemented `precision`, `recall`, `f_measure`, and `accuracy` functions\n",
    "# (make sure to look at the documentation for these functions!)\n",
    "# you will be creating a similar graph for logistic regression and neural nets, so make sure\n",
    "# you use functions wisely so that you do not have excessive repeated code\n",
    "# write any helper functions you need in sentiment_utils.py (functions that you'll use in your other notebooks as well)\n",
    "model = LogisticRegression()\n",
    "model.fit(cv_x_train, y_train)\n",
    "\n",
    "cv_preds = model.predict(cv_x_dev)\n",
    "\n",
    "y_dev_set = set(y_dev)\n",
    "# cv_accuracy = accuracy(y_dev_set, set(cv_preds))\n",
    "# cv_precision = precision(y_dev_set, set(cv_preds))\n",
    "# cv_recall = recall(y_dev_set, set(cv_preds))\n",
    "# cv_f1 = f_measure(y_dev_set, set(cv_preds))\n",
    "\n",
    "# print(f'Accuracy with CountVectorizer vectors: {cv_accuracy}')\n",
    "# print(f'Precision with CountVectorizer vectors: {cv_precision}')\n",
    "# print(f'Recall with CountVectorizer vectors: {cv_recall}')\n",
    "# print(f'F1 Score with CountVectorizer vectors: {cv_f1}')\n",
    "\n",
    "# create a graph of your classifier's performance on the dev set as a function of the amount of training data\n",
    "# the x-axis should be the amount of training data (as a percentage of the total training data)\n",
    "# the y-axis should be the performance of the classifier on the dev set\n",
    "# the graph should have 4 lines, one for each of precision, recall, f1, and accuracy\n",
    "# the graph should have a legend, title, and axis labels\n",
    "def nn_metrics_fun(train_feats, dev_feats, percentage):\n",
    "    cutoff = int(len(train_feats[1]) * percentage)\n",
    "    model = LogisticRegression()\n",
    "    model.fit(train_feats[0][:cutoff], train_feats[1][:cutoff])\n",
    "\n",
    "    preds = model.predict(dev_feats[0])\n",
    "\n",
    "    return preds, dev_feats[1]\n",
    "\n",
    "sutils.create_training_graph(nn_metrics_fun, \n",
    "                             (cv_x_train, y_train), \n",
    "                             (cv_x_dev, y_dev), \n",
    "                             \"Logistic Regression (multinomial sklearn)\", \n",
    "                             verbose=1)\n",
    "sutils.create_training_graph(nn_metrics_fun, \n",
    "                             (cv_x_dev_binary, y_train), \n",
    "                             (cv_x_dev_binary, y_dev), \n",
    "                             \"Logistic Regression (binomial sklearn)\", \n",
    "                             verbose=1)\n",
    "sutils.create_training_graph(nn_metrics_fun, \n",
    "                             (my_x_train, y_train), \n",
    "                             (my_x_dev, y_dev), \n",
    "                             \"Logistic Regression (binomial my vectorizer)\", \n",
    "                             verbose=1)\n",
    "sutils.create_training_graph(nn_metrics_fun, \n",
    "                             (my_x_train_binary, y_train), \n",
    "                             (my_x_dev_binary, y_dev), \n",
    "                             \"Logistic Regression (binomial my vectorizer)\", \n",
    "                             verbose=1)\n",
    "# takes approx 30 sec on Felix's computer"
   ]
  },
  {
   "cell_type": "markdown",
   "metadata": {},
   "source": [
    "Test the following 4 combinations to determine which has the best final f1 score for your Logistic Regression model:\n",
    "- your vectorized features, multinomial: __enter your final f1 score here__\n",
    "- CountVectorizer features, multinomial: __enter your final f1 score here__\n",
    "- your vectorized features, binarized: __enter your final f1 score here__\n",
    "- CountVectorizer features, binarized: __enter your final f1 score here__\n",
    "\n",
    "Produce your graph(s) for the combination with the best final f1 score.\n",
    "\n",
    "\n"
   ]
  },
  {
   "cell_type": "markdown",
   "metadata": {},
   "source": [
    "6120 REQUIRED\n",
    "----\n",
    "\n",
    "Find the top 100 most important features to your Logistic Regression classifier when using 100% of the training data. To access the weights of your model, you can access the `model.coef_` attribute. You'll want to use a `StandardScalar` preprocessor. This will help us deal with the fact that we expect counts of certain words to be higher (e.g. stop words).\n",
    "\n",
    "To find the importance of a feature, calculate the absolute value of each weight in the model, then order your features according to the absolute values of these weights. The feature with the heighest absolute value weight has the most importance.\n",
    "\n",
    "Use __your__ (not CountVectorizer) multinomial vectors for this analysis."
   ]
  },
  {
   "cell_type": "code",
   "execution_count": null,
   "metadata": {},
   "outputs": [],
   "source": [
    "import numpy as np\n",
    "import pandas as pd\n",
    "from sklearn.preprocessing import StandardScaler"
   ]
  },
  {
   "cell_type": "code",
   "execution_count": null,
   "metadata": {},
   "outputs": [],
   "source": [
    "# YOUR CODE HERE\n",
    "# train a model on the scaled inputs\n",
    "# This takes Felix's computer about 6.5 sec to run\n",
    "\n",
    "\n"
   ]
  },
  {
   "cell_type": "code",
   "execution_count": null,
   "metadata": {},
   "outputs": [],
   "source": [
    "# print out the top 20 most informative features according to this model\n"
   ]
  },
  {
   "cell_type": "code",
   "execution_count": null,
   "metadata": {},
   "outputs": [],
   "source": [
    "# re-evalaute your LR model with inputs that have been filtered to only use the top 500 most informative features\n"
   ]
  },
  {
   "cell_type": "code",
   "execution_count": null,
   "metadata": {},
   "outputs": [],
   "source": [
    "# create the same graph as before, but with the filtered inputs\n"
   ]
  }
 ],
 "metadata": {
  "kernelspec": {
   "display_name": "base",
   "language": "python",
   "name": "python3"
  },
  "language_info": {
   "codemirror_mode": {
    "name": "ipython",
    "version": 3
   },
   "file_extension": ".py",
   "mimetype": "text/x-python",
   "name": "python",
   "nbconvert_exporter": "python",
   "pygments_lexer": "ipython3",
   "version": "3.11.4"
  },
  "orig_nbformat": 4
 },
 "nbformat": 4,
 "nbformat_minor": 2
}
