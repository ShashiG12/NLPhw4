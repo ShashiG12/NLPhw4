{
 "cells": [
  {
   "cell_type": "markdown",
   "metadata": {},
   "source": [
    "Homework 4: Sentiment Analysis - Task 4\n",
    "----"
   ]
  },
  {
   "cell_type": "markdown",
   "metadata": {},
   "source": [
    "Names & Sections\n",
    "----\n",
    "Names: Shashidhar Gollamudi - 6120\n",
    "       Sunny Huang - 4120\n"
   ]
  },
  {
   "cell_type": "markdown",
   "metadata": {},
   "source": [
    "Task 4: Neural Networks (20 points)\n",
    "----\n",
    "\n",
    "Next, we'll train a feedforward neural net to work with this data. You'll train one neural net which takes the same input as your Logistic Regression model - a sparse vector representing documents as bags of words."
   ]
  },
  {
   "cell_type": "code",
   "execution_count": 1,
   "metadata": {},
   "outputs": [
    {
     "name": "stderr",
     "output_type": "stream",
     "text": [
      "[nltk_data] Downloading package punkt to\n",
      "[nltk_data]     /Users/sunnyh2024/nltk_data...\n",
      "[nltk_data]   Package punkt is already up-to-date!\n"
     ]
    }
   ],
   "source": [
    "import sentiment_utils as sutils\n",
    "import numpy as np\n",
    "\n",
    "from keras.models import Sequential\n",
    "from keras.layers import Dense\n",
    "\n",
    "# you can experiment with having some Dropout layers if you'd like to\n",
    "# this is not required\n",
    "from keras.layers import Dropout\n",
    "\n",
    "# if you want to use this again\n",
    "from sklearn.feature_extraction.text import CountVectorizer\n",
    "\n"
   ]
  },
  {
   "cell_type": "code",
   "execution_count": 8,
   "metadata": {},
   "outputs": [
    {
     "name": "stdout",
     "output_type": "stream",
     "text": [
      "22596\n",
      "Vocab size: 22596\n"
     ]
    }
   ],
   "source": [
    "# define constants for the files we are using\n",
    "TRAIN_FILE = \"movie_reviews_train.txt\"\n",
    "DEV_FILE = \"movie_reviews_dev.txt\"\n",
    "\n",
    "# load in your data and make sure you understand the format\n",
    "# Do not print out too much so as to impede readability of your notebook\n",
    "train_tups = sutils.generate_tuples_from_file(TRAIN_FILE)\n",
    "dev_tups = sutils.generate_tuples_from_file(DEV_FILE)\n",
    "\n",
    "x_train, y_train = train_tups\n",
    "x_dev, y_dev = dev_tups\n",
    "\n",
    "# you may use either your sparse vectors or sklearn's CountVectorizer's sparse vectors\n",
    "# you will experiment with multinomial and binarized representations later\n",
    "\n",
    "# USING SUTILS FUNCTIONS SLOWS DOWN MODEL.FIT ALOT\n",
    "# vocab = sutils.create_index(x_train)\n",
    "# x_train_vectors = sutils.featurize(vocab, x_train, binary=False)\n",
    "# x_dev_vectors = sutils.featurize(vocab, x_dev, binary=False)\n",
    "\n",
    "x_train_sents = [' '.join(review) for review in x_train]\n",
    "x_dev_sents = [' '.join(review) for review in x_dev]\n",
    "\n",
    "count_vectorizer = CountVectorizer(binary=False)\n",
    "count_vectorizer.fit(x_train_sents)\n",
    "\n",
    "count_vectorizer_binomial = CountVectorizer(binary=True)\n",
    "count_vectorizer_binomial.fit(x_train_sents)\n",
    "\n",
    "x_train_vectors = count_vectorizer.transform(x_train_sents)\n",
    "x_dev_vectors = count_vectorizer.transform(x_dev_sents)\n",
    "\n",
    "x_train_vectors_binomial = count_vectorizer_binomial.transform(x_train_sents)\n",
    "x_dev_vectors_binomial = count_vectorizer_binomial.transform(x_dev_sents)\n",
    "\n",
    "vocab = count_vectorizer.get_feature_names_out()\n",
    "\n",
    "print(f'Vocab size: {len(vocab)}')"
   ]
  },
  {
   "cell_type": "code",
   "execution_count": 3,
   "metadata": {},
   "outputs": [
    {
     "name": "stdout",
     "output_type": "stream",
     "text": [
      "Model: \"sequential\"\n",
      "_________________________________________________________________\n",
      " Layer (type)                Output Shape              Param #   \n",
      "=================================================================\n",
      " dense (Dense)               (None, 100)               2259700   \n",
      "                                                                 \n",
      " dense_1 (Dense)             (None, 1)                 101       \n",
      "                                                                 \n",
      "=================================================================\n",
      "Total params: 2,259,801\n",
      "Trainable params: 2,259,801\n",
      "Non-trainable params: 0\n",
      "_________________________________________________________________\n"
     ]
    }
   ],
   "source": [
    "# Create a feedforward neural network model\n",
    "# that takes a sparse BoW representation of the data as input\n",
    "# and makes a binary classification of positive/negative sentiment as output\n",
    "# you may use any number of hidden layers >= 1 and any number of units in each hidden layer (we recommend between 50-200)\n",
    "# you may use any activation function on the hidden layers \n",
    "# you should use a sigmoid activation function on the output layer\n",
    "# you should use binary cross-entropy as your loss function\n",
    "# sgd is an appropriate optimizer for this task\n",
    "# you should report accuracy as your metric\n",
    "# you may add Dropout layers if you'd like to\n",
    "num_epochs = 3\n",
    "hidden_units = 100\n",
    "\n",
    "# create/compile your model in this cell\n",
    "model = Sequential()\n",
    "\n",
    "model.add(Dense(units=hidden_units, activation=\"relu\", input_dim=len(vocab)))\n",
    "\n",
    "# put in an output layer\n",
    "model.add(Dense(units=1, activation='sigmoid'))\n",
    "\n",
    "model.summary()\n",
    "# call compile here\n",
    "model.compile(loss='binary_crossentropy',\n",
    "              optimizer='sgd',\n",
    "              metrics=['accuracy']\n",
    "              )\n"
   ]
  },
  {
   "cell_type": "markdown",
   "metadata": {},
   "source": [
    "How many trainable parameters does your model have? __2,259,801__"
   ]
  },
  {
   "cell_type": "code",
   "execution_count": 4,
   "metadata": {},
   "outputs": [
    {
     "name": "stdout",
     "output_type": "stream",
     "text": [
      "Epoch 1/3\n",
      " 1/50 [..............................] - ETA: 8s - loss: 0.7079 - accuracy: 0.4375"
     ]
    },
    {
     "name": "stderr",
     "output_type": "stream",
     "text": [
      "2023-10-25 14:30:25.902151: I tensorflow/core/common_runtime/executor.cc:1197] [/device:CPU:0] (DEBUG INFO) Executor start aborting (this does not indicate an error and you can ignore this message): INVALID_ARGUMENT: You must feed a value for placeholder tensor 'Placeholder/_1' with dtype int64 and shape [1600]\n",
      "\t [[{{node Placeholder/_1}}]]\n",
      "2023-10-25 14:30:25.902298: I tensorflow/core/common_runtime/executor.cc:1197] [/device:CPU:0] (DEBUG INFO) Executor start aborting (this does not indicate an error and you can ignore this message): INVALID_ARGUMENT: You must feed a value for placeholder tensor 'Placeholder/_1' with dtype int64 and shape [1600]\n",
      "\t [[{{node Placeholder/_1}}]]\n",
      "2023-10-25 14:30:26.040303: W tensorflow/tsl/platform/profile_utils/cpu_utils.cc:128] Failed to get CPU frequency: 0 Hz\n"
     ]
    },
    {
     "name": "stdout",
     "output_type": "stream",
     "text": [
      "50/50 [==============================] - 0s 1ms/step - loss: 0.6735 - accuracy: 0.5919\n",
      "Epoch 2/3\n",
      "50/50 [==============================] - 0s 1ms/step - loss: 0.6214 - accuracy: 0.6744\n",
      "Epoch 3/3\n",
      "50/50 [==============================] - 0s 1ms/step - loss: 0.5974 - accuracy: 0.6925\n"
     ]
    },
    {
     "data": {
      "text/plain": [
       "<keras.callbacks.History at 0x161a309d0>"
      ]
     },
     "execution_count": 4,
     "metadata": {},
     "output_type": "execute_result"
    }
   ],
   "source": [
    "# train your model\n",
    "# Felix's computer takes about 2 sec for 3 epochs\n",
    "# reports an accuracy of 0.78 at that point using the sgd optimizer\n",
    "\n",
    "model.fit(x_train_vectors, np.array(y_train), epochs=num_epochs, verbose=1)\n",
    "\n",
    "# Failed to find data adapter that can handle input: <class 'numpy.ndarray'>, (<class 'list'> containing values of types {\"<class 'int'>\"})\n",
    "# indicates you should change a list into a numpy array\n",
    "\n"
   ]
  },
  {
   "cell_type": "code",
   "execution_count": 5,
   "metadata": {},
   "outputs": [
    {
     "name": "stdout",
     "output_type": "stream",
     "text": [
      "7/7 [==============================] - 0s 920us/step\n",
      "[1.0, 0.0, 0.0, 1.0, 1.0, 1.0, 0.0, 1.0, 0.0, 1.0, 0.0, 1.0, 0.0, 1.0, 0.0, 1.0, 0.0, 1.0, 0.0, 1.0, 1.0, 0.0, 1.0, 1.0, 1.0, 1.0, 1.0, 1.0, 1.0, 1.0, 0.0, 0.0, 1.0, 1.0, 1.0, 1.0, 1.0, 1.0, 0.0, 1.0, 1.0, 0.0, 1.0, 0.0, 1.0, 1.0, 0.0, 1.0, 1.0, 1.0, 1.0, 1.0, 1.0, 0.0, 1.0, 0.0, 0.0, 1.0, 1.0, 1.0, 0.0, 0.0, 0.0, 1.0, 0.0, 0.0, 0.0, 1.0, 1.0, 0.0, 1.0, 0.0, 0.0, 1.0, 1.0, 1.0, 1.0, 0.0, 1.0, 1.0, 1.0, 0.0, 0.0, 0.0, 0.0, 0.0, 0.0, 0.0, 1.0, 0.0, 1.0, 1.0, 1.0, 0.0, 1.0, 1.0, 1.0, 1.0, 1.0, 0.0, 1.0, 0.0, 1.0, 1.0, 1.0, 1.0, 0.0, 0.0, 0.0, 0.0, 1.0, 1.0, 0.0, 1.0, 0.0, 1.0, 0.0, 0.0, 1.0, 0.0, 1.0, 0.0, 1.0, 1.0, 0.0, 1.0, 0.0, 1.0, 1.0, 1.0, 1.0, 1.0, 0.0, 1.0, 1.0, 0.0, 1.0, 1.0, 1.0, 1.0, 1.0, 1.0, 0.0, 1.0, 1.0, 0.0, 1.0, 1.0, 0.0, 1.0, 1.0, 1.0, 1.0, 1.0, 1.0, 1.0, 0.0, 1.0, 1.0, 1.0, 1.0, 1.0, 1.0, 1.0, 0.0, 1.0, 0.0, 1.0, 0.0, 0.0, 1.0, 0.0, 0.0, 1.0, 1.0, 0.0, 1.0, 1.0, 1.0, 1.0, 0.0, 0.0, 0.0, 1.0, 1.0, 0.0, 0.0, 0.0, 1.0, 1.0, 0.0, 0.0, 1.0, 0.0, 0.0, 0.0, 0.0, 1.0, 0.0, 0.0]\n"
     ]
    },
    {
     "name": "stderr",
     "output_type": "stream",
     "text": [
      "2023-10-25 14:30:26.316332: I tensorflow/core/common_runtime/executor.cc:1197] [/device:CPU:0] (DEBUG INFO) Executor start aborting (this does not indicate an error and you can ignore this message): INVALID_ARGUMENT: You must feed a value for placeholder tensor 'Placeholder/_0' with dtype variant and shape [200,3]\n",
      "\t [[{{node Placeholder/_0}}]]\n"
     ]
    }
   ],
   "source": [
    "# make a prediction on the dev set\n",
    "# then make a classification decision based on that prediction\n",
    "# predicting all examples takes < 1 sec on Felix's computer\n",
    "preds = model.predict(x_dev_vectors, verbose=1)\n",
    "preds = [np.round(pred[0]) for pred in preds]\n",
    "print(preds)"
   ]
  },
  {
   "cell_type": "code",
   "execution_count": 6,
   "metadata": {},
   "outputs": [
    {
     "name": "stdout",
     "output_type": "stream",
     "text": [
      "7/7 [==============================] - 0s 1ms/step - loss: 0.6106 - accuracy: 0.7000\n",
      "Loss: 0.6106128096580505\n",
      "Accuracy: 0.699999988079071\n"
     ]
    },
    {
     "name": "stderr",
     "output_type": "stream",
     "text": [
      "2023-10-25 14:30:26.372106: I tensorflow/core/common_runtime/executor.cc:1197] [/device:CPU:0] (DEBUG INFO) Executor start aborting (this does not indicate an error and you can ignore this message): INVALID_ARGUMENT: You must feed a value for placeholder tensor 'Placeholder/_1' with dtype int64 and shape [200]\n",
      "\t [[{{node Placeholder/_1}}]]\n"
     ]
    }
   ],
   "source": [
    "# use the model.evaluate function to report the loss and accuracy on the dev set\n",
    "metrics = model.evaluate(x_dev_vectors, np.array(y_dev), verbose=1)\n",
    "print(f'Loss: {metrics[0]}')\n",
    "print(f'Accuracy: {metrics[1]}')"
   ]
  },
  {
   "cell_type": "code",
   "execution_count": 10,
   "metadata": {},
   "outputs": [
    {
     "name": "stdout",
     "output_type": "stream",
     "text": [
      "Model: \"sequential_31\"\n",
      "_________________________________________________________________\n",
      " Layer (type)                Output Shape              Param #   \n",
      "=================================================================\n",
      " dense_62 (Dense)            (None, 100)               2259700   \n",
      "                                                                 \n",
      " dense_63 (Dense)            (None, 1)                 101       \n",
      "                                                                 \n",
      "=================================================================\n",
      "Total params: 2,259,801\n",
      "Trainable params: 2,259,801\n",
      "Non-trainable params: 0\n",
      "_________________________________________________________________\n",
      "Epoch 1/3\n"
     ]
    },
    {
     "name": "stdout",
     "output_type": "stream",
     "text": [
      "5/5 [==============================] - 0s 2ms/step - loss: 0.7195 - accuracy: 0.5437\n",
      "Epoch 2/3\n",
      "5/5 [==============================] - 0s 2ms/step - loss: 0.6813 - accuracy: 0.5500\n",
      "Epoch 3/3\n",
      "5/5 [==============================] - 0s 1ms/step - loss: 0.6459 - accuracy: 0.6562\n"
     ]
    },
    {
     "name": "stderr",
     "output_type": "stream",
     "text": [
      "2023-10-25 14:35:39.906229: I tensorflow/core/common_runtime/executor.cc:1197] [/device:CPU:0] (DEBUG INFO) Executor start aborting (this does not indicate an error and you can ignore this message): INVALID_ARGUMENT: You must feed a value for placeholder tensor 'Placeholder/_1' with dtype int64 and shape [160]\n",
      "\t [[{{node Placeholder/_1}}]]\n",
      "2023-10-25 14:35:39.906413: I tensorflow/core/common_runtime/executor.cc:1197] [/device:CPU:0] (DEBUG INFO) Executor start aborting (this does not indicate an error and you can ignore this message): INVALID_ARGUMENT: You must feed a value for placeholder tensor 'Placeholder/_1' with dtype int64 and shape [160]\n",
      "\t [[{{node Placeholder/_1}}]]\n",
      "2023-10-25 14:35:40.094306: I tensorflow/core/common_runtime/executor.cc:1197] [/device:CPU:0] (DEBUG INFO) Executor start aborting (this does not indicate an error and you can ignore this message): INVALID_ARGUMENT: You must feed a value for placeholder tensor 'Placeholder/_0' with dtype variant and shape [200,3]\n",
      "\t [[{{node Placeholder/_0}}]]\n"
     ]
    },
    {
     "name": "stdout",
     "output_type": "stream",
     "text": [
      "7/7 [==============================] - 0s 1ms/step\n",
      "Metrics when trained on 10% of data\n",
      "Precision: 0.5226130653266332\n",
      "Recall: 0.9904761904761905\n",
      "F1 score: 0.6842105263157895\n",
      "Accuracy: 0.52\n",
      "Model: \"sequential_32\"\n",
      "_________________________________________________________________\n",
      " Layer (type)                Output Shape              Param #   \n",
      "=================================================================\n",
      " dense_64 (Dense)            (None, 100)               2259700   \n",
      "                                                                 \n",
      " dense_65 (Dense)            (None, 1)                 101       \n",
      "                                                                 \n",
      "=================================================================\n",
      "Total params: 2,259,801\n",
      "Trainable params: 2,259,801\n",
      "Non-trainable params: 0\n",
      "_________________________________________________________________\n",
      "Epoch 1/3\n",
      "10/10 [==============================] - 0s 2ms/step - loss: 0.7082 - accuracy: 0.5375\n",
      "Epoch 2/3\n"
     ]
    },
    {
     "name": "stderr",
     "output_type": "stream",
     "text": [
      "2023-10-25 14:35:40.147448: I tensorflow/core/common_runtime/executor.cc:1197] [/device:CPU:0] (DEBUG INFO) Executor start aborting (this does not indicate an error and you can ignore this message): INVALID_ARGUMENT: You must feed a value for placeholder tensor 'Placeholder/_1' with dtype int64 and shape [320]\n",
      "\t [[{{node Placeholder/_1}}]]\n",
      "2023-10-25 14:35:40.147600: I tensorflow/core/common_runtime/executor.cc:1197] [/device:CPU:0] (DEBUG INFO) Executor start aborting (this does not indicate an error and you can ignore this message): INVALID_ARGUMENT: You must feed a value for placeholder tensor 'Placeholder/_1' with dtype int64 and shape [320]\n",
      "\t [[{{node Placeholder/_1}}]]\n"
     ]
    },
    {
     "name": "stdout",
     "output_type": "stream",
     "text": [
      "10/10 [==============================] - 0s 2ms/step - loss: 0.6657 - accuracy: 0.6687\n",
      "Epoch 3/3\n",
      "10/10 [==============================] - 0s 2ms/step - loss: 0.6611 - accuracy: 0.6469\n",
      "7/7 [==============================] - 0s 827us/step\n",
      "Metrics when trained on 20% of data\n",
      "Precision: 0.5255102040816326\n",
      "Recall: 0.9809523809523809\n",
      "F1 score: 0.6843853820598007\n",
      "Accuracy: 0.525\n",
      "Model: \"sequential_33\"\n",
      "_________________________________________________________________\n",
      " Layer (type)                Output Shape              Param #   \n",
      "=================================================================\n",
      " dense_66 (Dense)            (None, 100)               2259700   \n",
      "                                                                 \n",
      " dense_67 (Dense)            (None, 1)                 101       \n",
      "                                                                 \n",
      "=================================================================\n",
      "Total params: 2,259,801\n",
      "Trainable params: 2,259,801\n",
      "Non-trainable params: 0\n",
      "_________________________________________________________________\n",
      "Epoch 1/3\n"
     ]
    },
    {
     "name": "stderr",
     "output_type": "stream",
     "text": [
      "2023-10-25 14:35:40.385221: I tensorflow/core/common_runtime/executor.cc:1197] [/device:CPU:0] (DEBUG INFO) Executor start aborting (this does not indicate an error and you can ignore this message): INVALID_ARGUMENT: You must feed a value for placeholder tensor 'Placeholder/_0' with dtype variant and shape [200,3]\n",
      "\t [[{{node Placeholder/_0}}]]\n",
      "2023-10-25 14:35:40.438346: I tensorflow/core/common_runtime/executor.cc:1197] [/device:CPU:0] (DEBUG INFO) Executor start aborting (this does not indicate an error and you can ignore this message): INVALID_ARGUMENT: You must feed a value for placeholder tensor 'Placeholder/_1' with dtype int64 and shape [480]\n",
      "\t [[{{node Placeholder/_1}}]]\n",
      "2023-10-25 14:35:40.438516: I tensorflow/core/common_runtime/executor.cc:1197] [/device:CPU:0] (DEBUG INFO) Executor start aborting (this does not indicate an error and you can ignore this message): INVALID_ARGUMENT: You must feed a value for placeholder tensor 'Placeholder/_1' with dtype int64 and shape [480]\n",
      "\t [[{{node Placeholder/_1}}]]\n"
     ]
    },
    {
     "name": "stdout",
     "output_type": "stream",
     "text": [
      "15/15 [==============================] - 0s 2ms/step - loss: 0.6940 - accuracy: 0.5333\n",
      "Epoch 2/3\n",
      "15/15 [==============================] - 0s 2ms/step - loss: 0.6792 - accuracy: 0.6104\n",
      "Epoch 3/3\n",
      "15/15 [==============================] - 0s 2ms/step - loss: 0.6131 - accuracy: 0.7125\n",
      "7/7 [==============================] - 0s 795us/step\n",
      "Metrics when trained on 30% of data\n",
      "Precision: 0.7012987012987013\n",
      "Recall: 0.5142857142857142\n",
      "F1 score: 0.5934065934065934\n",
      "Accuracy: 0.63\n",
      "Model: \"sequential_34\"\n",
      "_________________________________________________________________\n",
      " Layer (type)                Output Shape              Param #   \n",
      "=================================================================\n",
      " dense_68 (Dense)            (None, 100)               2259700   \n",
      "                                                                 \n",
      " dense_69 (Dense)            (None, 1)                 101       \n",
      "                                                                 \n",
      "=================================================================\n",
      "Total params: 2,259,801\n",
      "Trainable params: 2,259,801\n",
      "Non-trainable params: 0\n",
      "_________________________________________________________________\n",
      "Epoch 1/3\n"
     ]
    },
    {
     "name": "stderr",
     "output_type": "stream",
     "text": [
      "2023-10-25 14:35:40.706148: I tensorflow/core/common_runtime/executor.cc:1197] [/device:CPU:0] (DEBUG INFO) Executor start aborting (this does not indicate an error and you can ignore this message): INVALID_ARGUMENT: You must feed a value for placeholder tensor 'Placeholder/_0' with dtype variant and shape [200,3]\n",
      "\t [[{{node Placeholder/_0}}]]\n",
      "2023-10-25 14:35:40.757223: I tensorflow/core/common_runtime/executor.cc:1197] [/device:CPU:0] (DEBUG INFO) Executor start aborting (this does not indicate an error and you can ignore this message): INVALID_ARGUMENT: You must feed a value for placeholder tensor 'Placeholder/_1' with dtype int64 and shape [640]\n",
      "\t [[{{node Placeholder/_1}}]]\n",
      "2023-10-25 14:35:40.757378: I tensorflow/core/common_runtime/executor.cc:1197] [/device:CPU:0] (DEBUG INFO) Executor start aborting (this does not indicate an error and you can ignore this message): INVALID_ARGUMENT: You must feed a value for placeholder tensor 'Placeholder/_1' with dtype int64 and shape [640]\n",
      "\t [[{{node Placeholder/_1}}]]\n"
     ]
    },
    {
     "name": "stdout",
     "output_type": "stream",
     "text": [
      "20/20 [==============================] - 0s 2ms/step - loss: 0.6895 - accuracy: 0.5375\n",
      "Epoch 2/3\n",
      "20/20 [==============================] - 0s 1ms/step - loss: 0.6533 - accuracy: 0.6703\n",
      "Epoch 3/3\n",
      "20/20 [==============================] - 0s 1ms/step - loss: 0.6249 - accuracy: 0.6922\n",
      "7/7 [==============================] - 0s 789us/step\n",
      "Metrics when trained on 40% of data\n",
      "Precision: 0.7619047619047619\n",
      "Recall: 0.45714285714285713\n",
      "F1 score: 0.5714285714285714\n",
      "Accuracy: 0.64\n",
      "Model: \"sequential_35\"\n",
      "_________________________________________________________________\n",
      " Layer (type)                Output Shape              Param #   \n",
      "=================================================================\n",
      " dense_70 (Dense)            (None, 100)               2259700   \n",
      "                                                                 \n",
      " dense_71 (Dense)            (None, 1)                 101       \n",
      "                                                                 \n",
      "=================================================================\n",
      "Total params: 2,259,801\n",
      "Trainable params: 2,259,801\n",
      "Non-trainable params: 0\n",
      "_________________________________________________________________\n",
      "Epoch 1/3\n"
     ]
    },
    {
     "name": "stderr",
     "output_type": "stream",
     "text": [
      "2023-10-25 14:35:41.008042: I tensorflow/core/common_runtime/executor.cc:1197] [/device:CPU:0] (DEBUG INFO) Executor start aborting (this does not indicate an error and you can ignore this message): INVALID_ARGUMENT: You must feed a value for placeholder tensor 'Placeholder/_0' with dtype variant and shape [200,3]\n",
      "\t [[{{node Placeholder/_0}}]]\n",
      "2023-10-25 14:35:41.056792: I tensorflow/core/common_runtime/executor.cc:1197] [/device:CPU:0] (DEBUG INFO) Executor start aborting (this does not indicate an error and you can ignore this message): INVALID_ARGUMENT: You must feed a value for placeholder tensor 'Placeholder/_1' with dtype int64 and shape [800]\n",
      "\t [[{{node Placeholder/_1}}]]\n",
      "2023-10-25 14:35:41.056939: I tensorflow/core/common_runtime/executor.cc:1197] [/device:CPU:0] (DEBUG INFO) Executor start aborting (this does not indicate an error and you can ignore this message): INVALID_ARGUMENT: You must feed a value for placeholder tensor 'Placeholder/_1' with dtype int64 and shape [800]\n",
      "\t [[{{node Placeholder/_1}}]]\n"
     ]
    },
    {
     "name": "stdout",
     "output_type": "stream",
     "text": [
      "25/25 [==============================] - 0s 2ms/step - loss: 0.6972 - accuracy: 0.5325\n",
      "Epoch 2/3\n",
      "25/25 [==============================] - 0s 2ms/step - loss: 0.6384 - accuracy: 0.6787\n",
      "Epoch 3/3\n",
      "25/25 [==============================] - 0s 1ms/step - loss: 0.6072 - accuracy: 0.7013\n",
      "7/7 [==============================] - 0s 898us/step\n",
      "Metrics when trained on 50% of data\n",
      "Precision: 0.7157894736842105\n",
      "Recall: 0.6476190476190476\n",
      "F1 score: 0.68\n",
      "Accuracy: 0.68\n",
      "Model: \"sequential_36\"\n",
      "_________________________________________________________________\n",
      " Layer (type)                Output Shape              Param #   \n",
      "=================================================================\n",
      " dense_72 (Dense)            (None, 100)               2259700   \n",
      "                                                                 \n",
      " dense_73 (Dense)            (None, 1)                 101       \n",
      "                                                                 \n",
      "=================================================================\n",
      "Total params: 2,259,801\n",
      "Trainable params: 2,259,801\n",
      "Non-trainable params: 0\n",
      "_________________________________________________________________\n",
      "Epoch 1/3\n"
     ]
    },
    {
     "name": "stderr",
     "output_type": "stream",
     "text": [
      "2023-10-25 14:35:41.359761: I tensorflow/core/common_runtime/executor.cc:1197] [/device:CPU:0] (DEBUG INFO) Executor start aborting (this does not indicate an error and you can ignore this message): INVALID_ARGUMENT: You must feed a value for placeholder tensor 'Placeholder/_0' with dtype variant and shape [200,3]\n",
      "\t [[{{node Placeholder/_0}}]]\n",
      "2023-10-25 14:35:41.413480: I tensorflow/core/common_runtime/executor.cc:1197] [/device:CPU:0] (DEBUG INFO) Executor start aborting (this does not indicate an error and you can ignore this message): INVALID_ARGUMENT: You must feed a value for placeholder tensor 'Placeholder/_1' with dtype int64 and shape [960]\n",
      "\t [[{{node Placeholder/_1}}]]\n",
      "2023-10-25 14:35:41.413631: I tensorflow/core/common_runtime/executor.cc:1197] [/device:CPU:0] (DEBUG INFO) Executor start aborting (this does not indicate an error and you can ignore this message): INVALID_ARGUMENT: You must feed a value for placeholder tensor 'Placeholder/_1' with dtype int64 and shape [960]\n",
      "\t [[{{node Placeholder/_1}}]]\n"
     ]
    },
    {
     "name": "stdout",
     "output_type": "stream",
     "text": [
      "30/30 [==============================] - 0s 2ms/step - loss: 0.6800 - accuracy: 0.5552\n",
      "Epoch 2/3\n",
      "30/30 [==============================] - 0s 1ms/step - loss: 0.6513 - accuracy: 0.6292\n",
      "Epoch 3/3\n",
      "30/30 [==============================] - 0s 1ms/step - loss: 0.6153 - accuracy: 0.7000\n",
      "7/7 [==============================] - 0s 787us/step\n",
      "Metrics when trained on 60% of data\n",
      "Precision: 0.7021276595744681\n",
      "Recall: 0.6285714285714286\n",
      "F1 score: 0.6633165829145728\n",
      "Accuracy: 0.665\n",
      "Model: \"sequential_37\"\n",
      "_________________________________________________________________\n",
      " Layer (type)                Output Shape              Param #   \n",
      "=================================================================\n",
      " dense_74 (Dense)            (None, 100)               2259700   \n",
      "                                                                 \n",
      " dense_75 (Dense)            (None, 1)                 101       \n",
      "                                                                 \n",
      "=================================================================\n",
      "Total params: 2,259,801\n",
      "Trainable params: 2,259,801\n",
      "Non-trainable params: 0\n",
      "_________________________________________________________________\n",
      "Epoch 1/3\n"
     ]
    },
    {
     "name": "stderr",
     "output_type": "stream",
     "text": [
      "2023-10-25 14:35:41.939400: I tensorflow/core/common_runtime/executor.cc:1197] [/device:CPU:0] (DEBUG INFO) Executor start aborting (this does not indicate an error and you can ignore this message): INVALID_ARGUMENT: You must feed a value for placeholder tensor 'Placeholder/_0' with dtype variant and shape [200,3]\n",
      "\t [[{{node Placeholder/_0}}]]\n",
      "2023-10-25 14:35:41.990705: I tensorflow/core/common_runtime/executor.cc:1197] [/device:CPU:0] (DEBUG INFO) Executor start aborting (this does not indicate an error and you can ignore this message): INVALID_ARGUMENT: You must feed a value for placeholder tensor 'Placeholder/_1' with dtype int64 and shape [1120]\n",
      "\t [[{{node Placeholder/_1}}]]\n",
      "2023-10-25 14:35:41.990846: I tensorflow/core/common_runtime/executor.cc:1197] [/device:CPU:0] (DEBUG INFO) Executor start aborting (this does not indicate an error and you can ignore this message): INVALID_ARGUMENT: You must feed a value for placeholder tensor 'Placeholder/_1' with dtype int64 and shape [1120]\n",
      "\t [[{{node Placeholder/_1}}]]\n"
     ]
    },
    {
     "name": "stdout",
     "output_type": "stream",
     "text": [
      "35/35 [==============================] - 0s 1ms/step - loss: 0.6891 - accuracy: 0.5571\n",
      "Epoch 2/3\n",
      "35/35 [==============================] - 0s 1ms/step - loss: 0.6535 - accuracy: 0.6339\n",
      "Epoch 3/3\n",
      "35/35 [==============================] - 0s 1ms/step - loss: 0.6140 - accuracy: 0.6973\n",
      "7/7 [==============================] - 0s 980us/step\n",
      "Metrics when trained on 70% of data\n",
      "Precision: 0.6727272727272727\n",
      "Recall: 0.7047619047619048\n",
      "F1 score: 0.6883720930232559\n",
      "Accuracy: 0.665\n",
      "Model: \"sequential_38\"\n",
      "_________________________________________________________________\n",
      " Layer (type)                Output Shape              Param #   \n",
      "=================================================================\n",
      " dense_76 (Dense)            (None, 100)               2259700   \n",
      "                                                                 \n",
      " dense_77 (Dense)            (None, 1)                 101       \n",
      "                                                                 \n",
      "=================================================================\n",
      "Total params: 2,259,801\n",
      "Trainable params: 2,259,801\n",
      "Non-trainable params: 0\n",
      "_________________________________________________________________\n",
      "Epoch 1/3\n"
     ]
    },
    {
     "name": "stderr",
     "output_type": "stream",
     "text": [
      "2023-10-25 14:35:42.298628: I tensorflow/core/common_runtime/executor.cc:1197] [/device:CPU:0] (DEBUG INFO) Executor start aborting (this does not indicate an error and you can ignore this message): INVALID_ARGUMENT: You must feed a value for placeholder tensor 'Placeholder/_0' with dtype variant and shape [200,3]\n",
      "\t [[{{node Placeholder/_0}}]]\n",
      "2023-10-25 14:35:42.348640: I tensorflow/core/common_runtime/executor.cc:1197] [/device:CPU:0] (DEBUG INFO) Executor start aborting (this does not indicate an error and you can ignore this message): INVALID_ARGUMENT: You must feed a value for placeholder tensor 'Placeholder/_0' with dtype variant and shape [1280,3]\n",
      "\t [[{{node Placeholder/_0}}]]\n",
      "2023-10-25 14:35:42.348810: I tensorflow/core/common_runtime/executor.cc:1197] [/device:CPU:0] (DEBUG INFO) Executor start aborting (this does not indicate an error and you can ignore this message): INVALID_ARGUMENT: You must feed a value for placeholder tensor 'Placeholder/_1' with dtype int64 and shape [1280]\n",
      "\t [[{{node Placeholder/_1}}]]\n"
     ]
    },
    {
     "name": "stdout",
     "output_type": "stream",
     "text": [
      "40/40 [==============================] - 0s 2ms/step - loss: 0.6794 - accuracy: 0.5719\n",
      "Epoch 2/3\n",
      "40/40 [==============================] - 0s 1ms/step - loss: 0.6318 - accuracy: 0.6727\n",
      "Epoch 3/3\n",
      "40/40 [==============================] - 0s 1ms/step - loss: 0.6018 - accuracy: 0.7086\n",
      "7/7 [==============================] - 0s 816us/step\n",
      "Metrics when trained on 80% of data\n",
      "Precision: 0.5783132530120482\n",
      "Recall: 0.9142857142857143\n",
      "F1 score: 0.7084870848708487\n",
      "Accuracy: 0.605\n",
      "Model: \"sequential_39\"\n",
      "_________________________________________________________________\n",
      " Layer (type)                Output Shape              Param #   \n",
      "=================================================================\n",
      " dense_78 (Dense)            (None, 100)               2259700   \n",
      "                                                                 \n",
      " dense_79 (Dense)            (None, 1)                 101       \n",
      "                                                                 \n",
      "=================================================================\n",
      "Total params: 2,259,801\n",
      "Trainable params: 2,259,801\n",
      "Non-trainable params: 0\n",
      "_________________________________________________________________\n",
      "Epoch 1/3\n",
      " 1/45 [..............................] - ETA: 6s - loss: 0.7155 - accuracy: 0.3750"
     ]
    },
    {
     "name": "stderr",
     "output_type": "stream",
     "text": [
      "2023-10-25 14:35:42.700166: I tensorflow/core/common_runtime/executor.cc:1197] [/device:CPU:0] (DEBUG INFO) Executor start aborting (this does not indicate an error and you can ignore this message): INVALID_ARGUMENT: You must feed a value for placeholder tensor 'Placeholder/_0' with dtype variant and shape [200,3]\n",
      "\t [[{{node Placeholder/_0}}]]\n",
      "2023-10-25 14:35:42.749786: I tensorflow/core/common_runtime/executor.cc:1197] [/device:CPU:0] (DEBUG INFO) Executor start aborting (this does not indicate an error and you can ignore this message): INVALID_ARGUMENT: You must feed a value for placeholder tensor 'Placeholder/_1' with dtype int64 and shape [1440]\n",
      "\t [[{{node Placeholder/_1}}]]\n",
      "2023-10-25 14:35:42.749941: I tensorflow/core/common_runtime/executor.cc:1197] [/device:CPU:0] (DEBUG INFO) Executor start aborting (this does not indicate an error and you can ignore this message): INVALID_ARGUMENT: You must feed a value for placeholder tensor 'Placeholder/_1' with dtype int64 and shape [1440]\n",
      "\t [[{{node Placeholder/_1}}]]\n"
     ]
    },
    {
     "name": "stdout",
     "output_type": "stream",
     "text": [
      "45/45 [==============================] - 0s 1ms/step - loss: 0.6784 - accuracy: 0.5688\n",
      "Epoch 2/3\n",
      "45/45 [==============================] - 0s 1ms/step - loss: 0.6202 - accuracy: 0.6819\n",
      "Epoch 3/3\n",
      "45/45 [==============================] - 0s 1ms/step - loss: 0.5864 - accuracy: 0.7153\n",
      "7/7 [==============================] - 0s 932us/step\n",
      "Metrics when trained on 90% of data\n",
      "Precision: 0.680327868852459\n",
      "Recall: 0.7904761904761904\n",
      "F1 score: 0.7312775330396476\n",
      "Accuracy: 0.695\n",
      "Model: \"sequential_40\"\n",
      "_________________________________________________________________\n",
      " Layer (type)                Output Shape              Param #   \n",
      "=================================================================\n",
      " dense_80 (Dense)            (None, 100)               2259700   \n",
      "                                                                 \n",
      " dense_81 (Dense)            (None, 1)                 101       \n",
      "                                                                 \n",
      "=================================================================\n",
      "Total params: 2,259,801\n",
      "Trainable params: 2,259,801\n",
      "Non-trainable params: 0\n",
      "_________________________________________________________________\n",
      "Epoch 1/3\n"
     ]
    },
    {
     "name": "stderr",
     "output_type": "stream",
     "text": [
      "2023-10-25 14:35:43.098295: I tensorflow/core/common_runtime/executor.cc:1197] [/device:CPU:0] (DEBUG INFO) Executor start aborting (this does not indicate an error and you can ignore this message): INVALID_ARGUMENT: You must feed a value for placeholder tensor 'Placeholder/_0' with dtype variant and shape [200,3]\n",
      "\t [[{{node Placeholder/_0}}]]\n",
      "2023-10-25 14:35:43.149886: I tensorflow/core/common_runtime/executor.cc:1197] [/device:CPU:0] (DEBUG INFO) Executor start aborting (this does not indicate an error and you can ignore this message): INVALID_ARGUMENT: You must feed a value for placeholder tensor 'Placeholder/_1' with dtype int64 and shape [1600]\n",
      "\t [[{{node Placeholder/_1}}]]\n",
      "2023-10-25 14:35:43.150033: I tensorflow/core/common_runtime/executor.cc:1197] [/device:CPU:0] (DEBUG INFO) Executor start aborting (this does not indicate an error and you can ignore this message): INVALID_ARGUMENT: You must feed a value for placeholder tensor 'Placeholder/_1' with dtype int64 and shape [1600]\n",
      "\t [[{{node Placeholder/_1}}]]\n"
     ]
    },
    {
     "name": "stdout",
     "output_type": "stream",
     "text": [
      "50/50 [==============================] - 0s 1ms/step - loss: 0.6819 - accuracy: 0.5556\n",
      "Epoch 2/3\n",
      "50/50 [==============================] - 0s 1ms/step - loss: 0.6345 - accuracy: 0.6513\n",
      "Epoch 3/3\n",
      "50/50 [==============================] - 0s 1ms/step - loss: 0.5899 - accuracy: 0.7119\n",
      "7/7 [==============================] - 0s 776us/step\n",
      "Metrics when trained on 100% of data\n",
      "Precision: 0.7837837837837838\n",
      "Recall: 0.5523809523809524\n",
      "F1 score: 0.6480446927374302\n",
      "Accuracy: 0.685\n"
     ]
    },
    {
     "name": "stderr",
     "output_type": "stream",
     "text": [
      "2023-10-25 14:35:43.523317: I tensorflow/core/common_runtime/executor.cc:1197] [/device:CPU:0] (DEBUG INFO) Executor start aborting (this does not indicate an error and you can ignore this message): INVALID_ARGUMENT: You must feed a value for placeholder tensor 'Placeholder/_0' with dtype variant and shape [200,3]\n",
      "\t [[{{node Placeholder/_0}}]]\n"
     ]
    },
    {
     "data": {
      "image/png": "[encoded data removed]",
      "text/plain": [
       "<Figure size 640x480 with 1 Axes>"
      ]
     },
     "metadata": {},
     "output_type": "display_data"
    },
    {
     "name": "stdout",
     "output_type": "stream",
     "text": [
      "Model: \"sequential_41\"\n",
      "_________________________________________________________________\n",
      " Layer (type)                Output Shape              Param #   \n",
      "=================================================================\n",
      " dense_82 (Dense)            (None, 100)               2259700   \n",
      "                                                                 \n",
      " dense_83 (Dense)            (None, 1)                 101       \n",
      "                                                                 \n",
      "=================================================================\n",
      "Total params: 2,259,801\n",
      "Trainable params: 2,259,801\n",
      "Non-trainable params: 0\n",
      "_________________________________________________________________\n",
      "Epoch 1/3\n"
     ]
    },
    {
     "name": "stderr",
     "output_type": "stream",
     "text": [
      "2023-10-25 14:35:43.649160: I tensorflow/core/common_runtime/executor.cc:1197] [/device:CPU:0] (DEBUG INFO) Executor start aborting (this does not indicate an error and you can ignore this message): INVALID_ARGUMENT: You must feed a value for placeholder tensor 'Placeholder/_1' with dtype int64 and shape [160]\n",
      "\t [[{{node Placeholder/_1}}]]\n",
      "2023-10-25 14:35:43.649525: I tensorflow/core/common_runtime/executor.cc:1197] [/device:CPU:0] (DEBUG INFO) Executor start aborting (this does not indicate an error and you can ignore this message): INVALID_ARGUMENT: You must feed a value for placeholder tensor 'Placeholder/_1' with dtype int64 and shape [160]\n",
      "\t [[{{node Placeholder/_1}}]]\n"
     ]
    },
    {
     "name": "stdout",
     "output_type": "stream",
     "text": [
      "5/5 [==============================] - 0s 2ms/step - loss: 0.6983 - accuracy: 0.4125\n",
      "Epoch 2/3\n",
      "5/5 [==============================] - 0s 2ms/step - loss: 0.6888 - accuracy: 0.4938\n",
      "Epoch 3/3\n",
      "5/5 [==============================] - 0s 2ms/step - loss: 0.6806 - accuracy: 0.6062\n",
      "7/7 [==============================] - 0s 841us/step\n",
      "Metrics when trained on 10% of data\n",
      "Precision: 0.515625\n",
      "Recall: 0.3142857142857143\n",
      "F1 score: 0.3905325443786982\n",
      "Accuracy: 0.485\n",
      "Model: \"sequential_42\"\n",
      "_________________________________________________________________\n",
      " Layer (type)                Output Shape              Param #   \n",
      "=================================================================\n",
      " dense_84 (Dense)            (None, 100)               2259700   \n",
      "                                                                 \n",
      " dense_85 (Dense)            (None, 1)                 101       \n",
      "                                                                 \n",
      "=================================================================\n",
      "Total params: 2,259,801\n",
      "Trainable params: 2,259,801\n",
      "Non-trainable params: 0\n",
      "_________________________________________________________________\n",
      "Epoch 1/3\n"
     ]
    },
    {
     "name": "stderr",
     "output_type": "stream",
     "text": [
      "2023-10-25 14:35:43.869932: I tensorflow/core/common_runtime/executor.cc:1197] [/device:CPU:0] (DEBUG INFO) Executor start aborting (this does not indicate an error and you can ignore this message): INVALID_ARGUMENT: You must feed a value for placeholder tensor 'Placeholder/_0' with dtype variant and shape [200,3]\n",
      "\t [[{{node Placeholder/_0}}]]\n",
      "2023-10-25 14:35:43.921993: I tensorflow/core/common_runtime/executor.cc:1197] [/device:CPU:0] (DEBUG INFO) Executor start aborting (this does not indicate an error and you can ignore this message): INVALID_ARGUMENT: You must feed a value for placeholder tensor 'Placeholder/_1' with dtype int64 and shape [320]\n",
      "\t [[{{node Placeholder/_1}}]]\n",
      "2023-10-25 14:35:43.922171: I tensorflow/core/common_runtime/executor.cc:1197] [/device:CPU:0] (DEBUG INFO) Executor start aborting (this does not indicate an error and you can ignore this message): INVALID_ARGUMENT: You must feed a value for placeholder tensor 'Placeholder/_1' with dtype int64 and shape [320]\n",
      "\t [[{{node Placeholder/_1}}]]\n"
     ]
    },
    {
     "name": "stdout",
     "output_type": "stream",
     "text": [
      "10/10 [==============================] - 0s 2ms/step - loss: 0.6907 - accuracy: 0.5469\n",
      "Epoch 2/3\n",
      "10/10 [==============================] - 0s 2ms/step - loss: 0.6777 - accuracy: 0.6531\n",
      "Epoch 3/3\n",
      "10/10 [==============================] - 0s 2ms/step - loss: 0.6653 - accuracy: 0.6906\n",
      "7/7 [==============================] - 0s 807us/step\n",
      "Metrics when trained on 20% of data\n",
      "Precision: 0.6865671641791045\n",
      "Recall: 0.4380952380952381\n",
      "F1 score: 0.5348837209302325\n",
      "Accuracy: 0.6\n",
      "Model: \"sequential_43\"\n",
      "_________________________________________________________________\n",
      " Layer (type)                Output Shape              Param #   \n",
      "=================================================================\n",
      " dense_86 (Dense)            (None, 100)               2259700   \n",
      "                                                                 \n",
      " dense_87 (Dense)            (None, 1)                 101       \n",
      "                                                                 \n",
      "=================================================================\n",
      "Total params: 2,259,801\n",
      "Trainable params: 2,259,801\n",
      "Non-trainable params: 0\n",
      "_________________________________________________________________\n",
      "Epoch 1/3\n"
     ]
    },
    {
     "name": "stderr",
     "output_type": "stream",
     "text": [
      "2023-10-25 14:35:44.143465: I tensorflow/core/common_runtime/executor.cc:1197] [/device:CPU:0] (DEBUG INFO) Executor start aborting (this does not indicate an error and you can ignore this message): INVALID_ARGUMENT: You must feed a value for placeholder tensor 'Placeholder/_0' with dtype variant and shape [200,3]\n",
      "\t [[{{node Placeholder/_0}}]]\n",
      "2023-10-25 14:35:44.195344: I tensorflow/core/common_runtime/executor.cc:1197] [/device:CPU:0] (DEBUG INFO) Executor start aborting (this does not indicate an error and you can ignore this message): INVALID_ARGUMENT: You must feed a value for placeholder tensor 'Placeholder/_1' with dtype int64 and shape [480]\n",
      "\t [[{{node Placeholder/_1}}]]\n",
      "2023-10-25 14:35:44.195502: I tensorflow/core/common_runtime/executor.cc:1197] [/device:CPU:0] (DEBUG INFO) Executor start aborting (this does not indicate an error and you can ignore this message): INVALID_ARGUMENT: You must feed a value for placeholder tensor 'Placeholder/_1' with dtype int64 and shape [480]\n",
      "\t [[{{node Placeholder/_1}}]]\n"
     ]
    },
    {
     "name": "stdout",
     "output_type": "stream",
     "text": [
      "15/15 [==============================] - 0s 2ms/step - loss: 0.6916 - accuracy: 0.5188\n",
      "Epoch 2/3\n",
      "15/15 [==============================] - 0s 4ms/step - loss: 0.6772 - accuracy: 0.6042\n",
      "Epoch 3/3\n",
      "15/15 [==============================] - 0s 1ms/step - loss: 0.6618 - accuracy: 0.7500\n",
      "7/7 [==============================] - 0s 818us/step\n",
      "Metrics when trained on 30% of data\n",
      "Precision: 0.6779661016949152\n",
      "Recall: 0.7619047619047619\n",
      "F1 score: 0.7174887892376681\n",
      "Accuracy: 0.685\n",
      "Model: \"sequential_44\"\n",
      "_________________________________________________________________\n",
      " Layer (type)                Output Shape              Param #   \n",
      "=================================================================\n",
      " dense_88 (Dense)            (None, 100)               2259700   \n",
      "                                                                 \n",
      " dense_89 (Dense)            (None, 1)                 101       \n",
      "                                                                 \n",
      "=================================================================\n",
      "Total params: 2,259,801\n",
      "Trainable params: 2,259,801\n",
      "Non-trainable params: 0\n",
      "_________________________________________________________________\n",
      "Epoch 1/3\n"
     ]
    },
    {
     "name": "stderr",
     "output_type": "stream",
     "text": [
      "2023-10-25 14:35:44.478837: I tensorflow/core/common_runtime/executor.cc:1197] [/device:CPU:0] (DEBUG INFO) Executor start aborting (this does not indicate an error and you can ignore this message): INVALID_ARGUMENT: You must feed a value for placeholder tensor 'Placeholder/_0' with dtype variant and shape [200,3]\n",
      "\t [[{{node Placeholder/_0}}]]\n",
      "2023-10-25 14:35:44.532582: I tensorflow/core/common_runtime/executor.cc:1197] [/device:CPU:0] (DEBUG INFO) Executor start aborting (this does not indicate an error and you can ignore this message): INVALID_ARGUMENT: You must feed a value for placeholder tensor 'Placeholder/_1' with dtype int64 and shape [640]\n",
      "\t [[{{node Placeholder/_1}}]]\n",
      "2023-10-25 14:35:44.532732: I tensorflow/core/common_runtime/executor.cc:1197] [/device:CPU:0] (DEBUG INFO) Executor start aborting (this does not indicate an error and you can ignore this message): INVALID_ARGUMENT: You must feed a value for placeholder tensor 'Placeholder/_1' with dtype int64 and shape [640]\n",
      "\t [[{{node Placeholder/_1}}]]\n"
     ]
    },
    {
     "name": "stdout",
     "output_type": "stream",
     "text": [
      "20/20 [==============================] - 0s 2ms/step - loss: 0.6948 - accuracy: 0.4859\n",
      "Epoch 2/3\n",
      "20/20 [==============================] - 0s 2ms/step - loss: 0.6770 - accuracy: 0.5922\n",
      "Epoch 3/3\n",
      "20/20 [==============================] - 0s 2ms/step - loss: 0.6606 - accuracy: 0.7141\n",
      "7/7 [==============================] - 0s 807us/step\n",
      "Metrics when trained on 40% of data\n",
      "Precision: 0.5604395604395604\n",
      "Recall: 0.9714285714285714\n",
      "F1 score: 0.710801393728223\n",
      "Accuracy: 0.585\n",
      "Model: \"sequential_45\"\n",
      "_________________________________________________________________\n",
      " Layer (type)                Output Shape              Param #   \n",
      "=================================================================\n",
      " dense_90 (Dense)            (None, 100)               2259700   \n",
      "                                                                 \n",
      " dense_91 (Dense)            (None, 1)                 101       \n",
      "                                                                 \n",
      "=================================================================\n",
      "Total params: 2,259,801\n",
      "Trainable params: 2,259,801\n",
      "Non-trainable params: 0\n",
      "_________________________________________________________________\n",
      "Epoch 1/3\n"
     ]
    },
    {
     "name": "stderr",
     "output_type": "stream",
     "text": [
      "2023-10-25 14:35:44.789830: I tensorflow/core/common_runtime/executor.cc:1197] [/device:CPU:0] (DEBUG INFO) Executor start aborting (this does not indicate an error and you can ignore this message): INVALID_ARGUMENT: You must feed a value for placeholder tensor 'Placeholder/_0' with dtype variant and shape [200,3]\n",
      "\t [[{{node Placeholder/_0}}]]\n",
      "2023-10-25 14:35:44.839578: I tensorflow/core/common_runtime/executor.cc:1197] [/device:CPU:0] (DEBUG INFO) Executor start aborting (this does not indicate an error and you can ignore this message): INVALID_ARGUMENT: You must feed a value for placeholder tensor 'Placeholder/_0' with dtype variant and shape [800,3]\n",
      "\t [[{{node Placeholder/_0}}]]\n",
      "2023-10-25 14:35:44.839739: I tensorflow/core/common_runtime/executor.cc:1197] [/device:CPU:0] (DEBUG INFO) Executor start aborting (this does not indicate an error and you can ignore this message): INVALID_ARGUMENT: You must feed a value for placeholder tensor 'Placeholder/_1' with dtype int64 and shape [800]\n",
      "\t [[{{node Placeholder/_1}}]]\n"
     ]
    },
    {
     "name": "stdout",
     "output_type": "stream",
     "text": [
      "25/25 [==============================] - 0s 2ms/step - loss: 0.6885 - accuracy: 0.5275\n",
      "Epoch 2/3\n",
      "25/25 [==============================] - 0s 1ms/step - loss: 0.6703 - accuracy: 0.6800\n",
      "Epoch 3/3\n",
      "25/25 [==============================] - 0s 1ms/step - loss: 0.6509 - accuracy: 0.7763\n",
      "7/7 [==============================] - 0s 929us/step\n",
      "Metrics when trained on 50% of data\n",
      "Precision: 0.6638655462184874\n",
      "Recall: 0.7523809523809524\n",
      "F1 score: 0.7053571428571429\n",
      "Accuracy: 0.67\n",
      "Model: \"sequential_46\"\n",
      "_________________________________________________________________\n",
      " Layer (type)                Output Shape              Param #   \n",
      "=================================================================\n",
      " dense_92 (Dense)            (None, 100)               2259700   \n",
      "                                                                 \n",
      " dense_93 (Dense)            (None, 1)                 101       \n",
      "                                                                 \n",
      "=================================================================\n",
      "Total params: 2,259,801\n",
      "Trainable params: 2,259,801\n",
      "Non-trainable params: 0\n",
      "_________________________________________________________________\n",
      "Epoch 1/3\n"
     ]
    },
    {
     "name": "stderr",
     "output_type": "stream",
     "text": [
      "2023-10-25 14:35:45.117361: I tensorflow/core/common_runtime/executor.cc:1197] [/device:CPU:0] (DEBUG INFO) Executor start aborting (this does not indicate an error and you can ignore this message): INVALID_ARGUMENT: You must feed a value for placeholder tensor 'Placeholder/_0' with dtype variant and shape [200,3]\n",
      "\t [[{{node Placeholder/_0}}]]\n",
      "2023-10-25 14:35:45.168175: I tensorflow/core/common_runtime/executor.cc:1197] [/device:CPU:0] (DEBUG INFO) Executor start aborting (this does not indicate an error and you can ignore this message): INVALID_ARGUMENT: You must feed a value for placeholder tensor 'Placeholder/_1' with dtype int64 and shape [960]\n",
      "\t [[{{node Placeholder/_1}}]]\n",
      "2023-10-25 14:35:45.168325: I tensorflow/core/common_runtime/executor.cc:1197] [/device:CPU:0] (DEBUG INFO) Executor start aborting (this does not indicate an error and you can ignore this message): INVALID_ARGUMENT: You must feed a value for placeholder tensor 'Placeholder/_1' with dtype int64 and shape [960]\n",
      "\t [[{{node Placeholder/_1}}]]\n"
     ]
    },
    {
     "name": "stdout",
     "output_type": "stream",
     "text": [
      "30/30 [==============================] - 0s 2ms/step - loss: 0.6906 - accuracy: 0.5437\n",
      "Epoch 2/3\n",
      "30/30 [==============================] - 0s 1ms/step - loss: 0.6716 - accuracy: 0.6729\n",
      "Epoch 3/3\n",
      "30/30 [==============================] - 0s 1ms/step - loss: 0.6518 - accuracy: 0.7906\n",
      "7/7 [==============================] - 0s 761us/step\n",
      "Metrics when trained on 60% of data\n",
      "Precision: 0.8441558441558441\n",
      "Recall: 0.6190476190476191\n",
      "F1 score: 0.7142857142857143\n",
      "Accuracy: 0.74\n",
      "Model: \"sequential_47\"\n",
      "_________________________________________________________________\n",
      " Layer (type)                Output Shape              Param #   \n",
      "=================================================================\n",
      " dense_94 (Dense)            (None, 100)               2259700   \n",
      "                                                                 \n",
      " dense_95 (Dense)            (None, 1)                 101       \n",
      "                                                                 \n",
      "=================================================================\n",
      "Total params: 2,259,801\n",
      "Trainable params: 2,259,801\n",
      "Non-trainable params: 0\n",
      "_________________________________________________________________\n",
      "Epoch 1/3\n"
     ]
    },
    {
     "name": "stderr",
     "output_type": "stream",
     "text": [
      "2023-10-25 14:35:45.456896: I tensorflow/core/common_runtime/executor.cc:1197] [/device:CPU:0] (DEBUG INFO) Executor start aborting (this does not indicate an error and you can ignore this message): INVALID_ARGUMENT: You must feed a value for placeholder tensor 'Placeholder/_0' with dtype variant and shape [200,3]\n",
      "\t [[{{node Placeholder/_0}}]]\n",
      "2023-10-25 14:35:45.504568: I tensorflow/core/common_runtime/executor.cc:1197] [/device:CPU:0] (DEBUG INFO) Executor start aborting (this does not indicate an error and you can ignore this message): INVALID_ARGUMENT: You must feed a value for placeholder tensor 'Placeholder/_1' with dtype int64 and shape [1120]\n",
      "\t [[{{node Placeholder/_1}}]]\n",
      "2023-10-25 14:35:45.504715: I tensorflow/core/common_runtime/executor.cc:1197] [/device:CPU:0] (DEBUG INFO) Executor start aborting (this does not indicate an error and you can ignore this message): INVALID_ARGUMENT: You must feed a value for placeholder tensor 'Placeholder/_1' with dtype int64 and shape [1120]\n",
      "\t [[{{node Placeholder/_1}}]]\n"
     ]
    },
    {
     "name": "stdout",
     "output_type": "stream",
     "text": [
      "35/35 [==============================] - 0s 1ms/step - loss: 0.6890 - accuracy: 0.5366\n",
      "Epoch 2/3\n",
      "35/35 [==============================] - 0s 1ms/step - loss: 0.6674 - accuracy: 0.7116\n",
      "Epoch 3/3\n",
      "35/35 [==============================] - 0s 2ms/step - loss: 0.6431 - accuracy: 0.7759\n",
      "7/7 [==============================] - 0s 742us/step\n",
      "Metrics when trained on 70% of data\n",
      "Precision: 0.7477477477477478\n",
      "Recall: 0.7904761904761904\n",
      "F1 score: 0.7685185185185185\n",
      "Accuracy: 0.75\n",
      "Model: \"sequential_48\"\n",
      "_________________________________________________________________\n",
      " Layer (type)                Output Shape              Param #   \n",
      "=================================================================\n",
      " dense_96 (Dense)            (None, 100)               2259700   \n",
      "                                                                 \n",
      " dense_97 (Dense)            (None, 1)                 101       \n",
      "                                                                 \n",
      "=================================================================\n",
      "Total params: 2,259,801\n",
      "Trainable params: 2,259,801\n",
      "Non-trainable params: 0\n",
      "_________________________________________________________________\n",
      "Epoch 1/3\n",
      " 1/40 [..............................] - ETA: 5s - loss: 0.7058 - accuracy: 0.4062"
     ]
    },
    {
     "name": "stderr",
     "output_type": "stream",
     "text": [
      "2023-10-25 14:35:45.829239: I tensorflow/core/common_runtime/executor.cc:1197] [/device:CPU:0] (DEBUG INFO) Executor start aborting (this does not indicate an error and you can ignore this message): INVALID_ARGUMENT: You must feed a value for placeholder tensor 'Placeholder/_0' with dtype variant and shape [200,3]\n",
      "\t [[{{node Placeholder/_0}}]]\n",
      "2023-10-25 14:35:45.878120: I tensorflow/core/common_runtime/executor.cc:1197] [/device:CPU:0] (DEBUG INFO) Executor start aborting (this does not indicate an error and you can ignore this message): INVALID_ARGUMENT: You must feed a value for placeholder tensor 'Placeholder/_1' with dtype int64 and shape [1280]\n",
      "\t [[{{node Placeholder/_1}}]]\n",
      "2023-10-25 14:35:45.878270: I tensorflow/core/common_runtime/executor.cc:1197] [/device:CPU:0] (DEBUG INFO) Executor start aborting (this does not indicate an error and you can ignore this message): INVALID_ARGUMENT: You must feed a value for placeholder tensor 'Placeholder/_1' with dtype int64 and shape [1280]\n",
      "\t [[{{node Placeholder/_1}}]]\n"
     ]
    },
    {
     "name": "stdout",
     "output_type": "stream",
     "text": [
      "40/40 [==============================] - 0s 1ms/step - loss: 0.6874 - accuracy: 0.5695\n",
      "Epoch 2/3\n",
      "40/40 [==============================] - 0s 1ms/step - loss: 0.6599 - accuracy: 0.7305\n",
      "Epoch 3/3\n",
      "40/40 [==============================] - 0s 1ms/step - loss: 0.6297 - accuracy: 0.7969\n",
      "7/7 [==============================] - 0s 761us/step\n",
      "Metrics when trained on 80% of data\n",
      "Precision: 0.6274509803921569\n",
      "Recall: 0.9142857142857143\n",
      "F1 score: 0.7441860465116279\n",
      "Accuracy: 0.67\n",
      "Model: \"sequential_49\"\n",
      "_________________________________________________________________\n",
      " Layer (type)                Output Shape              Param #   \n",
      "=================================================================\n",
      " dense_98 (Dense)            (None, 100)               2259700   \n",
      "                                                                 \n",
      " dense_99 (Dense)            (None, 1)                 101       \n",
      "                                                                 \n",
      "=================================================================\n",
      "Total params: 2,259,801\n",
      "Trainable params: 2,259,801\n",
      "Non-trainable params: 0\n",
      "_________________________________________________________________\n",
      "Epoch 1/3\n"
     ]
    },
    {
     "name": "stderr",
     "output_type": "stream",
     "text": [
      "2023-10-25 14:35:46.198291: I tensorflow/core/common_runtime/executor.cc:1197] [/device:CPU:0] (DEBUG INFO) Executor start aborting (this does not indicate an error and you can ignore this message): INVALID_ARGUMENT: You must feed a value for placeholder tensor 'Placeholder/_0' with dtype variant and shape [200,3]\n",
      "\t [[{{node Placeholder/_0}}]]\n",
      "2023-10-25 14:35:46.247451: I tensorflow/core/common_runtime/executor.cc:1197] [/device:CPU:0] (DEBUG INFO) Executor start aborting (this does not indicate an error and you can ignore this message): INVALID_ARGUMENT: You must feed a value for placeholder tensor 'Placeholder/_1' with dtype int64 and shape [1440]\n",
      "\t [[{{node Placeholder/_1}}]]\n",
      "2023-10-25 14:35:46.247597: I tensorflow/core/common_runtime/executor.cc:1197] [/device:CPU:0] (DEBUG INFO) Executor start aborting (this does not indicate an error and you can ignore this message): INVALID_ARGUMENT: You must feed a value for placeholder tensor 'Placeholder/_1' with dtype int64 and shape [1440]\n",
      "\t [[{{node Placeholder/_1}}]]\n"
     ]
    },
    {
     "name": "stdout",
     "output_type": "stream",
     "text": [
      "45/45 [==============================] - 0s 1ms/step - loss: 0.6905 - accuracy: 0.5264\n",
      "Epoch 2/3\n",
      "45/45 [==============================] - 0s 1ms/step - loss: 0.6696 - accuracy: 0.6826\n",
      "Epoch 3/3\n",
      "45/45 [==============================] - 0s 1ms/step - loss: 0.6449 - accuracy: 0.7722\n",
      "7/7 [==============================] - 0s 784us/step\n",
      "Metrics when trained on 90% of data\n",
      "Precision: 0.810126582278481\n",
      "Recall: 0.6095238095238096\n",
      "F1 score: 0.6956521739130435\n",
      "Accuracy: 0.72\n",
      "Model: \"sequential_50\"\n",
      "_________________________________________________________________\n",
      " Layer (type)                Output Shape              Param #   \n",
      "=================================================================\n",
      " dense_100 (Dense)           (None, 100)               2259700   \n",
      "                                                                 \n",
      " dense_101 (Dense)           (None, 1)                 101       \n",
      "                                                                 \n",
      "=================================================================\n",
      "Total params: 2,259,801\n",
      "Trainable params: 2,259,801\n",
      "Non-trainable params: 0\n",
      "_________________________________________________________________\n",
      "Epoch 1/3\n",
      " 1/50 [..............................] - ETA: 7s - loss: 0.6985 - accuracy: 0.4375"
     ]
    },
    {
     "name": "stderr",
     "output_type": "stream",
     "text": [
      "2023-10-25 14:35:46.591034: I tensorflow/core/common_runtime/executor.cc:1197] [/device:CPU:0] (DEBUG INFO) Executor start aborting (this does not indicate an error and you can ignore this message): INVALID_ARGUMENT: You must feed a value for placeholder tensor 'Placeholder/_0' with dtype variant and shape [200,3]\n",
      "\t [[{{node Placeholder/_0}}]]\n",
      "2023-10-25 14:35:46.639767: I tensorflow/core/common_runtime/executor.cc:1197] [/device:CPU:0] (DEBUG INFO) Executor start aborting (this does not indicate an error and you can ignore this message): INVALID_ARGUMENT: You must feed a value for placeholder tensor 'Placeholder/_1' with dtype int64 and shape [1600]\n",
      "\t [[{{node Placeholder/_1}}]]\n",
      "2023-10-25 14:35:46.639911: I tensorflow/core/common_runtime/executor.cc:1197] [/device:CPU:0] (DEBUG INFO) Executor start aborting (this does not indicate an error and you can ignore this message): INVALID_ARGUMENT: You must feed a value for placeholder tensor 'Placeholder/_1' with dtype int64 and shape [1600]\n",
      "\t [[{{node Placeholder/_1}}]]\n"
     ]
    },
    {
     "name": "stdout",
     "output_type": "stream",
     "text": [
      "50/50 [==============================] - 0s 2ms/step - loss: 0.6876 - accuracy: 0.5462\n",
      "Epoch 2/3\n",
      "50/50 [==============================] - 0s 2ms/step - loss: 0.6611 - accuracy: 0.7181\n",
      "Epoch 3/3\n",
      "50/50 [==============================] - 0s 1ms/step - loss: 0.6301 - accuracy: 0.7981\n",
      "7/7 [==============================] - 0s 795us/step\n",
      "Metrics when trained on 100% of data\n",
      "Precision: 0.7264957264957265\n",
      "Recall: 0.8095238095238095\n",
      "F1 score: 0.7657657657657657\n",
      "Accuracy: 0.74\n"
     ]
    },
    {
     "name": "stderr",
     "output_type": "stream",
     "text": [
      "2023-10-25 14:35:47.030824: I tensorflow/core/common_runtime/executor.cc:1197] [/device:CPU:0] (DEBUG INFO) Executor start aborting (this does not indicate an error and you can ignore this message): INVALID_ARGUMENT: You must feed a value for placeholder tensor 'Placeholder/_0' with dtype variant and shape [200,3]\n",
      "\t [[{{node Placeholder/_0}}]]\n"
     ]
    },
    {
     "data": {
      "image/png": "[encoded data removed]",
      "text/plain": [
       "<Figure size 640x480 with 1 Axes>"
      ]
     },
     "metadata": {},
     "output_type": "display_data"
    }
   ],
   "source": [
    "# create the same graph as with NB and LR, with your neural network model instead!\n",
    "# make sure to re-create your model each time you train it — you don't want to start with\n",
    "# an already trained network!\n",
    "\n",
    "# For a model with one hidden layer of 50 units:\n",
    "# Takes < 15 sec to run on Felix's computer w/ 3 epochs\n",
    "# Takes < 30 sec to run on Felix's computer w/ 10 epochs\n",
    "# Takes < 50 sec to run on Felix's computer w/ 20 epochs\n",
    "# you need not train your model more than 20 epochs\n",
    "# you should experiment with different numbers of epochs to see how performance varies\n",
    "# you need not create an experiment that takes > 10 min to run (please do not do this)\n",
    "def nn_metrics_fun(train_feats, dev_feats, percentage):\n",
    "    num_epochs = 3\n",
    "    hidden_units = 100\n",
    "\n",
    "    model = Sequential()\n",
    "    model.add(Dense(units=hidden_units, activation=\"relu\", input_dim=len(vocab)))\n",
    "    # put in an output layer\n",
    "    model.add(Dense(units=1, activation='sigmoid'))\n",
    "    model.summary()\n",
    "    # call compile here\n",
    "    model.compile(loss='binary_crossentropy',\n",
    "                optimizer='sgd',\n",
    "                metrics=['accuracy']\n",
    "                )\n",
    "    x_train_vectors, y_train = train_feats\n",
    "    x_dev_vectors, y_dev = dev_feats\n",
    "\n",
    "    cutoff = int(len(y_train) * percentage)\n",
    "    model.fit(x_train_vectors[:cutoff], np.array(y_train[:cutoff]), epochs=num_epochs)\n",
    "    preds = model.predict(x_dev_vectors)\n",
    "    preds = [np.round(pred[0]) for pred in preds]\n",
    "    return preds, y_dev\n",
    "\n",
    "train_feats = (x_train_vectors, y_train)\n",
    "dev_feats = (x_dev_vectors, y_dev)\n",
    "\n",
    "train_feats_binomial = (x_train_vectors_binomial, y_train)\n",
    "dev_feats_binomial = (x_dev_vectors_binomial, y_dev)\n",
    "\n",
    "sutils.create_training_graph(nn_metrics_fun, train_feats, dev_feats, \"Neural Network\", verbose=True)\n",
    "sutils.create_training_graph(nn_metrics_fun, train_feats_binomial, dev_feats_binomial, \"Neural Network\", verbose=True)\n",
    "\n"
   ]
  },
  {
   "cell_type": "markdown",
   "metadata": {},
   "source": [
    "Report the f1 scores for your model with the following settings, using the same number of epochs to train in both cases:\n",
    "- number of epochs used: __3__\n",
    "- multinomial features: __0.6480446927374302__ \n",
    "- binarized features: __0.7657657657657657__"
   ]
  }
 ],
 "metadata": {
  "kernelspec": {
   "display_name": "base",
   "language": "python",
   "name": "python3"
  },
  "language_info": {
   "codemirror_mode": {
    "name": "ipython",
    "version": 3
   },
   "file_extension": ".py",
   "mimetype": "text/x-python",
   "name": "python",
   "nbconvert_exporter": "python",
   "pygments_lexer": "ipython3",
   "version": "3.11.4"
  },
  "orig_nbformat": 4
 },
 "nbformat": 4,
 "nbformat_minor": 2
}
