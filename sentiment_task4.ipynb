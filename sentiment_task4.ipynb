{
 "cells": [
  {
   "cell_type": "markdown",
   "metadata": {},
   "source": [
    "Homework 4: Sentiment Analysis - Task 4\n",
    "----"
   ]
  },
  {
   "cell_type": "markdown",
   "metadata": {},
   "source": [
    "Names & Sections\n",
    "----\n",
    "Names: __YOUR NAMES HERE__ (Write these in every notebook you submit. For each partner, write down whether you are a 4120 or a 6120 student.)"
   ]
  },
  {
   "cell_type": "markdown",
   "metadata": {},
   "source": [
    "Task 4: Neural Networks (20 points)\n",
    "----\n",
    "\n",
    "Next, we'll train a feedforward neural net to work with this data. You'll train one neural net which takes the same input as your Logistic Regression model - a sparse vector representing documents as bags of words."
   ]
  },
  {
   "cell_type": "code",
   "execution_count": 1,
   "metadata": {},
   "outputs": [
    {
     "name": "stderr",
     "output_type": "stream",
     "text": [
      "[nltk_data] Downloading package punkt to\n",
      "[nltk_data]     /Users/sunnyh2024/nltk_data...\n",
      "[nltk_data]   Package punkt is already up-to-date!\n"
     ]
    }
   ],
   "source": [
    "import sentiment_utils as sutils\n",
    "import numpy as np\n",
    "\n",
    "from keras.models import Sequential\n",
    "from keras.layers import Dense\n",
    "\n",
    "# you can experiment with having some Dropout layers if you'd like to\n",
    "# this is not required\n",
    "from keras.layers import Dropout\n",
    "\n",
    "# if you want to use this again\n",
    "from sklearn.feature_extraction.text import CountVectorizer\n",
    "\n"
   ]
  },
  {
   "cell_type": "code",
   "execution_count": 49,
   "metadata": {},
   "outputs": [
    {
     "name": "stdout",
     "output_type": "stream",
     "text": [
      "Vocab size: 22596\n"
     ]
    }
   ],
   "source": [
    "# define constants for the files we are using\n",
    "TRAIN_FILE = \"movie_reviews_train.txt\"\n",
    "DEV_FILE = \"movie_reviews_dev.txt\"\n",
    "\n",
    "# load in your data and make sure you understand the format\n",
    "# Do not print out too much so as to impede readability of your notebook\n",
    "train_tups = sutils.generate_tuples_from_file(TRAIN_FILE)\n",
    "dev_tups = sutils.generate_tuples_from_file(DEV_FILE)\n",
    "\n",
    "x_train, y_train = train_tups\n",
    "x_dev, y_dev = dev_tups\n",
    "\n",
    "# you may use either your sparse vectors or sklearn's CountVectorizer's sparse vectors\n",
    "# you will experiment with multinomial and binarized representations later\n",
    "\n",
    "# USING SUTILS FUNCTIONS SLOWS DOWN MODEL.FIT ALOT\n",
    "# vocab = sutils.create_index(x_train)\n",
    "# x_train_vectors = sutils.featurize(vocab, x_train, binary=False)\n",
    "# x_dev_vectors = sutils.featurize(vocab, x_dev, binary=False)\n",
    "\n",
    "x_train_sents = [' '.join(review) for review in x_train]\n",
    "x_dev_sents = [' '.join(review) for review in x_dev]\n",
    "\n",
    "count_vectorizer = CountVectorizer(binary=False)\n",
    "count_vectorizer.fit(x_train_sents)\n",
    "\n",
    "x_train_vectors = count_vectorizer.transform(x_train_sents)\n",
    "x_dev_vectors = count_vectorizer.transform(x_dev_sents)\n",
    "\n",
    "vocab = count_vectorizer.get_feature_names_out()\n",
    "\n",
    "print(f'Vocab size: {len(vocab)}')"
   ]
  },
  {
   "cell_type": "code",
   "execution_count": 50,
   "metadata": {},
   "outputs": [
    {
     "name": "stdout",
     "output_type": "stream",
     "text": [
      "Model: \"sequential_9\"\n",
      "_________________________________________________________________\n",
      " Layer (type)                Output Shape              Param #   \n",
      "=================================================================\n",
      " dense_18 (Dense)            (None, 100)               2259700   \n",
      "                                                                 \n",
      " dense_19 (Dense)            (None, 1)                 101       \n",
      "                                                                 \n",
      "=================================================================\n",
      "Total params: 2,259,801\n",
      "Trainable params: 2,259,801\n",
      "Non-trainable params: 0\n",
      "_________________________________________________________________\n"
     ]
    }
   ],
   "source": [
    "# Create a feedforward neural network model\n",
    "# that takes a sparse BoW representation of the data as input\n",
    "# and makes a binary classification of positive/negative sentiment as output\n",
    "# you may use any number of hidden layers >= 1 and any number of units in each hidden layer (we recommend between 50-200)\n",
    "# you may use any activation function on the hidden layers \n",
    "# you should use a sigmoid activation function on the output layer\n",
    "# you should use binary cross-entropy as your loss function\n",
    "# sgd is an appropriate optimizer for this task\n",
    "# you should report accuracy as your metric\n",
    "# you may add Dropout layers if you'd like to\n",
    "num_epochs = 3\n",
    "hidden_units = 100\n",
    "\n",
    "# create/compile your model in this cell\n",
    "model = Sequential()\n",
    "\n",
    "model.add(Dense(units=hidden_units, activation=\"relu\", input_dim=len(vocab)))\n",
    "\n",
    "# put in an output layer\n",
    "model.add(Dense(units=1, activation='sigmoid'))\n",
    "\n",
    "model.summary()\n",
    "# call compile here\n",
    "model.compile(loss='binary_crossentropy',\n",
    "              optimizer='sgd',\n",
    "              metrics=['accuracy']\n",
    "              )\n"
   ]
  },
  {
   "cell_type": "markdown",
   "metadata": {},
   "source": [
    "How many trainable parameters does your model have? __3,070,701__"
   ]
  },
  {
   "cell_type": "code",
   "execution_count": 51,
   "metadata": {},
   "outputs": [
    {
     "name": "stdout",
     "output_type": "stream",
     "text": [
      "Epoch 1/3\n",
      " 1/50 [..............................] - ETA: 8s - loss: 0.8340 - accuracy: 0.4688"
     ]
    },
    {
     "name": "stderr",
     "output_type": "stream",
     "text": [
      "2023-10-25 13:42:52.540293: I tensorflow/core/common_runtime/executor.cc:1197] [/device:CPU:0] (DEBUG INFO) Executor start aborting (this does not indicate an error and you can ignore this message): INVALID_ARGUMENT: You must feed a value for placeholder tensor 'Placeholder/_0' with dtype variant and shape [1600,3]\n",
      "\t [[{{node Placeholder/_0}}]]\n",
      "2023-10-25 13:42:52.540867: I tensorflow/core/common_runtime/executor.cc:1197] [/device:CPU:0] (DEBUG INFO) Executor start aborting (this does not indicate an error and you can ignore this message): INVALID_ARGUMENT: You must feed a value for placeholder tensor 'Placeholder/_1' with dtype int64 and shape [1600]\n",
      "\t [[{{node Placeholder/_1}}]]\n"
     ]
    },
    {
     "name": "stdout",
     "output_type": "stream",
     "text": [
      "50/50 [==============================] - 0s 1ms/step - loss: 0.6813 - accuracy: 0.5794\n",
      "Epoch 2/3\n",
      "50/50 [==============================] - 0s 1ms/step - loss: 0.6366 - accuracy: 0.6706\n",
      "Epoch 3/3\n",
      "50/50 [==============================] - 0s 1ms/step - loss: 0.5868 - accuracy: 0.7262\n"
     ]
    },
    {
     "data": {
      "text/plain": [
       "<keras.callbacks.History at 0x1683c9f50>"
      ]
     },
     "execution_count": 51,
     "metadata": {},
     "output_type": "execute_result"
    }
   ],
   "source": [
    "# train your model\n",
    "# Felix's computer takes about 2 sec for 3 epochs\n",
    "# reports an accuracy of 0.78 at that point using the sgd optimizer\n",
    "\n",
    "model.fit(x_train_vectors, np.array(y_train), epochs=num_epochs, verbose=1)\n",
    "\n",
    "# Failed to find data adapter that can handle input: <class 'numpy.ndarray'>, (<class 'list'> containing values of types {\"<class 'int'>\"})\n",
    "# indicates you should change a list into a numpy array\n",
    "\n"
   ]
  },
  {
   "cell_type": "code",
   "execution_count": 52,
   "metadata": {},
   "outputs": [
    {
     "name": "stdout",
     "output_type": "stream",
     "text": [
      "1/7 [===>..........................] - ETA: 0s"
     ]
    },
    {
     "name": "stdout",
     "output_type": "stream",
     "text": [
      "7/7 [==============================] - 0s 1ms/step\n",
      "[0.0, 0.0, 0.0, 1.0, 0.0, 1.0, 0.0, 1.0, 0.0, 1.0, 0.0, 0.0, 0.0, 0.0, 0.0, 1.0, 0.0, 0.0, 0.0, 0.0, 0.0, 0.0, 0.0, 0.0, 1.0, 0.0, 0.0, 0.0, 1.0, 1.0, 0.0, 0.0, 1.0, 0.0, 1.0, 1.0, 1.0, 0.0, 0.0, 0.0, 1.0, 0.0, 0.0, 0.0, 1.0, 1.0, 0.0, 0.0, 1.0, 1.0, 0.0, 1.0, 1.0, 0.0, 0.0, 0.0, 0.0, 0.0, 1.0, 1.0, 0.0, 0.0, 0.0, 0.0, 0.0, 0.0, 0.0, 1.0, 1.0, 0.0, 1.0, 0.0, 0.0, 0.0, 1.0, 0.0, 1.0, 0.0, 0.0, 1.0, 0.0, 0.0, 0.0, 0.0, 0.0, 0.0, 0.0, 0.0, 1.0, 0.0, 1.0, 0.0, 1.0, 0.0, 0.0, 0.0, 0.0, 1.0, 1.0, 0.0, 0.0, 0.0, 1.0, 0.0, 1.0, 1.0, 0.0, 0.0, 0.0, 0.0, 0.0, 0.0, 0.0, 1.0, 0.0, 1.0, 0.0, 0.0, 0.0, 0.0, 0.0, 0.0, 1.0, 0.0, 0.0, 0.0, 0.0, 1.0, 0.0, 0.0, 1.0, 1.0, 0.0, 0.0, 1.0, 0.0, 1.0, 0.0, 0.0, 0.0, 1.0, 1.0, 0.0, 1.0, 1.0, 0.0, 1.0, 1.0, 0.0, 1.0, 0.0, 0.0, 0.0, 1.0, 1.0, 1.0, 0.0, 0.0, 0.0, 0.0, 0.0, 1.0, 0.0, 0.0, 0.0, 1.0, 0.0, 0.0, 0.0, 0.0, 1.0, 0.0, 0.0, 1.0, 1.0, 0.0, 1.0, 1.0, 1.0, 1.0, 0.0, 0.0, 0.0, 0.0, 0.0, 0.0, 0.0, 0.0, 0.0, 0.0, 0.0, 0.0, 0.0, 0.0, 0.0, 0.0, 0.0, 1.0, 0.0, 0.0]\n"
     ]
    },
    {
     "name": "stderr",
     "output_type": "stream",
     "text": [
      "2023-10-25 13:43:01.894222: I tensorflow/core/common_runtime/executor.cc:1197] [/device:CPU:0] (DEBUG INFO) Executor start aborting (this does not indicate an error and you can ignore this message): INVALID_ARGUMENT: You must feed a value for placeholder tensor 'Placeholder/_0' with dtype variant and shape [200,3]\n",
      "\t [[{{node Placeholder/_0}}]]\n"
     ]
    }
   ],
   "source": [
    "# make a prediction on the dev set\n",
    "# then make a classification decision based on that prediction\n",
    "# predicting all examples takes < 1 sec on Felix's computer\n",
    "preds = model.predict(x_dev_vectors, verbose=1)\n",
    "preds = [np.round(pred[0]) for pred in preds]\n",
    "print(preds)"
   ]
  },
  {
   "cell_type": "code",
   "execution_count": 39,
   "metadata": {},
   "outputs": [
    {
     "name": "stdout",
     "output_type": "stream",
     "text": [
      "7/7 [==============================] - 0s 940us/step - loss: 0.5897 - accuracy: 0.6900\n",
      "Loss: 0.5896962285041809\n",
      "Accuracy: 0.6899999976158142\n"
     ]
    },
    {
     "name": "stderr",
     "output_type": "stream",
     "text": [
      "2023-10-25 12:36:36.077208: I tensorflow/core/common_runtime/executor.cc:1197] [/device:CPU:0] (DEBUG INFO) Executor start aborting (this does not indicate an error and you can ignore this message): INVALID_ARGUMENT: You must feed a value for placeholder tensor 'Placeholder/_1' with dtype int64 and shape [200]\n",
      "\t [[{{node Placeholder/_1}}]]\n"
     ]
    }
   ],
   "source": [
    "# use the model.evaluate function to report the loss and accuracy on the dev set\n",
    "metrics = model.evaluate(x_dev_vectors, np.array(y_dev), verbose=1)\n",
    "print(f'Loss: {metrics[0]}')\n",
    "print(f'Accuracy: {metrics[1]}')"
   ]
  },
  {
   "cell_type": "code",
   "execution_count": 53,
   "metadata": {},
   "outputs": [
    {
     "ename": "TypeError",
     "evalue": "sparse matrix length is ambiguous; use getnnz() or shape[0]",
     "output_type": "error",
     "traceback": [
      "\u001b[0;31m---------------------------------------------------------------------------\u001b[0m",
      "\u001b[0;31mTypeError\u001b[0m                                 Traceback (most recent call last)",
      "\u001b[1;32m/Users/sunnyh2024/Documents/GitHub/NLPhw4/sentiment_task4.ipynb Cell 11\u001b[0m line \u001b[0;36m3\n\u001b[1;32m     <a href='vscode-notebook-cell:/Users/sunnyh2024/Documents/GitHub/NLPhw4/sentiment_task4.ipynb#X13sZmlsZQ%3D%3D?line=35'>36</a>\u001b[0m plot_x\u001b[39m.\u001b[39mappend(i)\n\u001b[1;32m     <a href='vscode-notebook-cell:/Users/sunnyh2024/Documents/GitHub/NLPhw4/sentiment_task4.ipynb#X13sZmlsZQ%3D%3D?line=37'>38</a>\u001b[0m percentage \u001b[39m=\u001b[39m i \u001b[39m/\u001b[39m \u001b[39m100\u001b[39m\n\u001b[0;32m---> <a href='vscode-notebook-cell:/Users/sunnyh2024/Documents/GitHub/NLPhw4/sentiment_task4.ipynb#X13sZmlsZQ%3D%3D?line=38'>39</a>\u001b[0m cutoff \u001b[39m=\u001b[39m \u001b[39mlen\u001b[39m(x_train_vectors) \u001b[39m*\u001b[39m percentage\n\u001b[1;32m     <a href='vscode-notebook-cell:/Users/sunnyh2024/Documents/GitHub/NLPhw4/sentiment_task4.ipynb#X13sZmlsZQ%3D%3D?line=39'>40</a>\u001b[0m model \u001b[39m=\u001b[39m Sequential()\n\u001b[1;32m     <a href='vscode-notebook-cell:/Users/sunnyh2024/Documents/GitHub/NLPhw4/sentiment_task4.ipynb#X13sZmlsZQ%3D%3D?line=40'>41</a>\u001b[0m model\u001b[39m.\u001b[39madd(Dense(units\u001b[39m=\u001b[39mhidden_units, activation\u001b[39m=\u001b[39m\u001b[39m\"\u001b[39m\u001b[39mrelu\u001b[39m\u001b[39m\"\u001b[39m, input_dim\u001b[39m=\u001b[39m\u001b[39mlen\u001b[39m(vocab)))\n",
      "File \u001b[0;32m~/anaconda3/lib/python3.11/site-packages/scipy/sparse/_base.py:345\u001b[0m, in \u001b[0;36mspmatrix.__len__\u001b[0;34m(self)\u001b[0m\n\u001b[1;32m    344\u001b[0m \u001b[39mdef\u001b[39;00m \u001b[39m__len__\u001b[39m(\u001b[39mself\u001b[39m):\n\u001b[0;32m--> 345\u001b[0m     \u001b[39mraise\u001b[39;00m \u001b[39mTypeError\u001b[39;00m(\u001b[39m\"\u001b[39m\u001b[39msparse matrix length is ambiguous; use getnnz()\u001b[39m\u001b[39m\"\u001b[39m\n\u001b[1;32m    346\u001b[0m                     \u001b[39m\"\u001b[39m\u001b[39m or shape[0]\u001b[39m\u001b[39m\"\u001b[39m)\n",
      "\u001b[0;31mTypeError\u001b[0m: sparse matrix length is ambiguous; use getnnz() or shape[0]"
     ]
    }
   ],
   "source": [
    "# create the same graph as with NB and LR, with your neural network model instead!\n",
    "# make sure to re-create your model each time you train it — you don't want to start with\n",
    "# an already trained network!\n",
    "\n",
    "# For a model with one hidden layer of 50 units:\n",
    "# Takes < 15 sec to run on Felix's computer w/ 3 epochs\n",
    "# Takes < 30 sec to run on Felix's computer w/ 10 epochs\n",
    "# Takes < 50 sec to run on Felix's computer w/ 20 epochs\n",
    "# you need not train your model more than 20 epochs\n",
    "# you should experiment with different numbers of epochs to see how performance varies\n",
    "# you need not create an experiment that takes > 10 min to run (please do not do this)\n",
    "def nn_metrics_fun(train_feats, dev_feats, percentage):\n",
    "    num_epochs = 3\n",
    "    hidden_units = 100\n",
    "\n",
    "    model = Sequential()\n",
    "    model.add(Dense(units=hidden_units, activation=\"relu\", input_dim=len(vocab)))\n",
    "    # put in an output layer\n",
    "    model.add(Dense(units=1, activation='sigmoid'))\n",
    "    model.summary()\n",
    "    # call compile here\n",
    "    model.compile(loss='binary_crossentropy',\n",
    "                optimizer='sgd',\n",
    "                metrics=['accuracy']\n",
    "                )\n",
    "    x_train_vectors, y_train = train_feats\n",
    "    x_dev_vectors, y_dev = dev_feats\n",
    "    model.fit(x_train_vectors[:int(len(train_feats) * percentage)], np.array(y_train[:int(len(train_feats) * percentage)]), epochs=num_epochs, verbose=1)\n",
    "    preds = model.predict(x_dev_vectors, verbose=1)\n",
    "    preds = [np.round(pred[0]) for pred in preds]\n",
    "    return preds, y_dev\n",
    "\n",
    "accuracies, precisions, f1s, recalls = [], [], [], []\n",
    "plot_x = []\n",
    "for i in range(10, 110, 10):\n",
    "    plot_x.append(i)\n",
    "\n",
    "    percentage = i / 100\n",
    "    cutoff = len(x_train_vectors) * percentage\n",
    "    model = Sequential()\n",
    "    model.add(Dense(units=hidden_units, activation=\"relu\", input_dim=len(vocab)))\n",
    "    # put in an output layer\n",
    "    model.add(Dense(units=1, activation='sigmoid'))\n",
    "    model.summary()\n",
    "    # call compile here\n",
    "    model.compile(loss='binary_crossentropy',\n",
    "                optimizer='sgd',\n",
    "                metrics=['accuracy']\n",
    "                )\n",
    "    cur_x_vectors = x_train_vectors.set_shape(cutoff, len(vocab))\n",
    "    model.fit(cur_x_vectors, np.array(y_train[:cutoff]), epochs=num_epochs, verbose=1)\n",
    "    preds = model.predict(x_dev_vectors, verbose=1)\n",
    "    preds = [np.round(pred[0]) for pred in preds]\n",
    "    precision, recall, f1, accuracy = sutils.get_prfa(y_dev, preds)\n",
    "\n",
    "    accuracies.append(accuracy)\n",
    "    precisions.append(precision)\n",
    "    f1s.append(f1)\n",
    "    recalls.append(recall)\n",
    "\n",
    "train_feats = (x_train_vectors, y_train)\n",
    "dev_feats = (x_dev_vectors, y_dev)\n",
    "\n",
    "sutils.create_training_graph(nn_metrics_fun, train_feats, dev_feats, \"Neural Network\", verbose=True)\n"
   ]
  },
  {
   "cell_type": "markdown",
   "metadata": {},
   "source": [
    "Report the f1 scores for your model with the following settings, using the same number of epochs to train in both cases:\n",
    "- number of epochs used: __YOUR ANSWER HERE__\n",
    "- multinomial features: __YOUR ANSWER HERE__ \n",
    "- binarized features: __YOUR ANSWER HERE__"
   ]
  }
 ],
 "metadata": {
  "kernelspec": {
   "display_name": "base",
   "language": "python",
   "name": "python3"
  },
  "language_info": {
   "codemirror_mode": {
    "name": "ipython",
    "version": 3
   },
   "file_extension": ".py",
   "mimetype": "text/x-python",
   "name": "python",
   "nbconvert_exporter": "python",
   "pygments_lexer": "ipython3",
   "version": "3.11.4"
  },
  "orig_nbformat": 4
 },
 "nbformat": 4,
 "nbformat_minor": 2
}
